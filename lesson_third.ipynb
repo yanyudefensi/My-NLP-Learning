{
 "cells": [
  {
   "cell_type": "markdown",
   "metadata": {},
   "source": [
    "# Answer the question"
   ]
  },
  {
   "cell_type": "markdown",
   "metadata": {},
   "source": [
    "### Why do we use derivative / Gredient to fit a target function?\n",
    "\n",
    "Because the gredient direction is the fasteset direction to decrease the loss, which means\n",
    "\n",
    "fit the target function better than before."
   ]
  },
  {
   "cell_type": "markdown",
   "metadata": {},
   "source": [
    "### In the words'Gredient Descent',what's the Gredient and what's the Descent?\n",
    "\n",
    "a' = a - η▽f Writing the formula can help us better explain. \n",
    "\n",
    "Gredient is the vector of bias derivation of the cofficients of the varibales of the \n",
    "\n",
    "objective function(▽f).And how much 'descent' does the target function have is \n",
    "\n",
    "controlled by learning rate(η)."
   ]
  },
  {
   "cell_type": "markdown",
   "metadata": {},
   "source": [
    "### What's the advantages of the 3rd gradient descent method compared to the previous methods?\n",
    "\n",
    "It is the fastest way to fit the target data compred with the previous methods."
   ]
  },
  {
   "cell_type": "markdown",
   "metadata": {},
   "source": [
    "### Using the simple words to describe: What's the machine leanring.\n",
    "\n",
    "Assurme that P is the evalution to measure the performance of computer programme on \n",
    "\n",
    "target T.While a programme take advantage of experience E to increase the performance on \n",
    "\n",
    "target T, we call that the programme learn E about P and T."
   ]
  },
  {
   "cell_type": "markdown",
   "metadata": {},
   "source": [
    "### Why do we need dynamic programming? What's the difference of dynamic programming and previous talked search problme?\n",
    "\n",
    "In some machine learning problems, a behaviour strategy may not receive immediate \n",
    "\n",
    "feedback(reinforce learning).Therefore such problems need dynamic programming, which is\n",
    "\n",
    "designed to solve the multi-stage decision-making process by transforming the multi-stage\n",
    "\n",
    "process into a serious of single-stage process. And then use the relationship of each \n",
    "\n",
    "stage to find the solution one by one.\n"
   ]
  },
  {
   "cell_type": "markdown",
   "metadata": {},
   "source": [
    "### Why do we still need dynamic programming? Why not we train a machine learning to fit a function which could get the  right answer based on inputs?\n",
    "\n",
    "There are some practical application problems in scene, which can be abstracted for \n",
    "\n",
    "optimal routing problems. It is suitable for dynamic programming to solve.Sure that\n",
    "\n",
    "traditional machine learning can work. But it needs not only enormous data but also a\n",
    "\n",
    "complex formula/model to fit the data, which means we have to pay for more cost."
   ]
  },
  {
   "cell_type": "markdown",
   "metadata": {},
   "source": [
    "### Can you catch up at least 3 problems which could solved by Dynamic Programming?\n",
    "\n",
    "Reinforce learning, Shortest route, Inventory management"
   ]
  },
  {
   "cell_type": "markdown",
   "metadata": {},
   "source": [
    "### Can you catch up at least 3 problems wich could sloved by Edit Distance?\n",
    "\n",
    "Machine transformer, Text similarity calculation, Spelling check"
   ]
  },
  {
   "cell_type": "markdown",
   "metadata": {},
   "source": [
    "### Please summarize the three main features of Dynamic Programming, and make a concise explain for each feature.\n",
    "\n",
    "#### Optimal substructure, Inefficiency afterwards, Subproblem overlap\n",
    "\n",
    "Optimal substructure: If the best solution of the problem is the same as its subproblems, we call that the problem satisfy Optimal substructure\n",
    "    \n",
    "Inefficiency afterwards: If the subproblem is certain, it will not affect by its superclass problems.\n",
    "\n",
    "Subproblem overlap: When a problem is solved form top to bottom using recursive algorithms,\n",
    "\n",
    "the subproblems that arise are not always new.\n",
    "\n",
    "（1）最优子结构性质。如果问题的最优解所包含的子问题的解也是最优的，我们就称该问题具有最优子结构性质（即满足最优化原理）。最优子结构性质为动态规划算法解决问题提供了重要线索。\n",
    "\n",
    "（2）无后效性。即子问题的解一旦确定，就不再改变，不受在这之后、包含它的更大的问题的求解决策影响。\n",
    "\n",
    "（3）子问题重叠性质。子问题重叠性质是指在用递归算法自顶向下对问题进行求解时，每次产生的子问题并不总是新问题，有些子问题会被重复计算多次。动态规划算法正是利用了这种子问题的重叠性质，对每一个子问题只计算一次，然后将其计算结果保存在一个表格中，当再次需要计算已经计算过的子问题时，只是在表格中简单地查看一下结果，从而获得较高的效率。\n"
   ]
  },
  {
   "cell_type": "markdown",
   "metadata": {},
   "source": [
    "### What's the disadvantages of Dynamic Programming?\n",
    "The weakness of dynamic programming is that its calculated quantity and storge will \n",
    "\n",
    "increase rapidly with the increase of state and control dimensions. Besides, the excat  \n",
    "\n",
    "mathematical analytic expressions are usually not available in practical problems. The \n",
    "\n",
    "range of its application is limited.\n",
    "\n",
    "所以一个问题是该用递推、贪心、搜索还是动态规划，完全是由这个问题本身阶段间状态的转移方式决定的！\n",
    "\n",
    "每个阶段只有一个状态->递推；\n",
    "\n",
    "每个阶段的最优状态都是由上一个阶段的最优状态得到的->贪心；\n",
    "\n",
    "每个阶段的最优状态是由之前所有阶段的状态的组合得到的->搜索；\n",
    "\n",
    "每个阶段的最优状态可以从之前某个阶段的某个或某些状态直接得到而不管之前这个状态是如何得到的->动态规划。"
   ]
  },
  {
   "cell_type": "markdown",
   "metadata": {},
   "source": [
    "# 代码复现：动态规划(Dynamic Programming)"
   ]
  },
  {
   "cell_type": "code",
   "execution_count": 6,
   "metadata": {},
   "outputs": [],
   "source": [
    "original_price = [1,5,8,9,10,17,17,20,24,30,35]"
   ]
  },
  {
   "cell_type": "code",
   "execution_count": 7,
   "metadata": {},
   "outputs": [],
   "source": [
    "from collections import defaultdict\n",
    "\n",
    "price = defaultdict(int)\n",
    "\n",
    "for i, p in enumerate(original_price):\n",
    "    price[i+1] = p"
   ]
  },
  {
   "cell_type": "code",
   "execution_count": 8,
   "metadata": {},
   "outputs": [
    {
     "data": {
      "text/plain": [
       "35"
      ]
     },
     "execution_count": 8,
     "metadata": {},
     "output_type": "execute_result"
    }
   ],
   "source": [
    "price[11]"
   ]
  },
  {
   "cell_type": "markdown",
   "metadata": {},
   "source": [
    "## Get the max splitting by enumerate"
   ]
  },
  {
   "cell_type": "markdown",
   "metadata": {},
   "source": [
    "### 函数也可以作为参数传入"
   ]
  },
  {
   "cell_type": "code",
   "execution_count": 5,
   "metadata": {},
   "outputs": [
    {
     "data": {
      "text/plain": [
       "4"
      ]
     },
     "execution_count": 5,
     "metadata": {},
     "output_type": "execute_result"
    }
   ],
   "source": [
    "max(1,2,3,4)"
   ]
  },
  {
   "cell_type": "code",
   "execution_count": 6,
   "metadata": {},
   "outputs": [],
   "source": [
    "def example(f, arg):\n",
    "    return f(arg)"
   ]
  },
  {
   "cell_type": "code",
   "execution_count": 7,
   "metadata": {},
   "outputs": [],
   "source": [
    "def add_ten(num):\n",
    "    return num + 10"
   ]
  },
  {
   "cell_type": "code",
   "execution_count": 8,
   "metadata": {},
   "outputs": [],
   "source": [
    "def mul_ten(num):\n",
    "    return num * 10"
   ]
  },
  {
   "cell_type": "code",
   "execution_count": 9,
   "metadata": {},
   "outputs": [
    {
     "name": "stdout",
     "output_type": "stream",
     "text": [
      "110\n",
      "1000\n"
     ]
    }
   ],
   "source": [
    "operations = [add_ten, mul_ten]\n",
    "\n",
    "for f in operations:\n",
    "    print(example(f, 100))"
   ]
  },
  {
   "cell_type": "code",
   "execution_count": 18,
   "metadata": {},
   "outputs": [],
   "source": [
    "called_time = defaultdict(int)\n",
    "\n",
    "def get_call_times(f):\n",
    "    result = f()\n",
    "    print('function: {} called once!'.format(f.__name__))\n",
    "    called_time[f.__name__] += 1\n",
    "    \n",
    "    return result"
   ]
  },
  {
   "cell_type": "code",
   "execution_count": 19,
   "metadata": {},
   "outputs": [],
   "source": [
    "def some_function_1(): print('I am function 1')"
   ]
  },
  {
   "cell_type": "code",
   "execution_count": 20,
   "metadata": {},
   "outputs": [
    {
     "name": "stdout",
     "output_type": "stream",
     "text": [
      "I am function 1\n",
      "function: some_function_1 called once!\n"
     ]
    }
   ],
   "source": [
    "get_call_times(some_function_1)"
   ]
  },
  {
   "cell_type": "code",
   "execution_count": 21,
   "metadata": {},
   "outputs": [
    {
     "data": {
      "text/plain": [
       "defaultdict(int, {'some_function_1': 1})"
      ]
     },
     "execution_count": 21,
     "metadata": {},
     "output_type": "execute_result"
    }
   ],
   "source": [
    "called_time"
   ]
  },
  {
   "cell_type": "code",
   "execution_count": 22,
   "metadata": {},
   "outputs": [],
   "source": [
    "def r(n):\n",
    "    \n",
    "    return max([price[n]] + [r(i) + r(n-i) for i in range(1, n)])"
   ]
  },
  {
   "cell_type": "code",
   "execution_count": 4,
   "metadata": {},
   "outputs": [],
   "source": [
    "from functools import wraps"
   ]
  },
  {
   "cell_type": "code",
   "execution_count": 20,
   "metadata": {},
   "outputs": [],
   "source": [
    "'''Python装饰器（decorator）在实现的时候，被装饰后的函数其实已经是另外一个函数了（函数名等函数属性会发生改变）\n",
    "为了不影响，Python的functools包中提供了一个叫wraps的decorator来消除这样的副作用。\n",
    "写一个decorator的时候，最好在实现之前加上functools的wrap，它能保留原有函数的名称和docstring\n",
    "'''\n",
    "call_time_with_arg = defaultdict(int)\n",
    "\n",
    "def get_call_time(f):\n",
    "    '''@param f is a function'''\n",
    "    @wraps(f)\n",
    "    def wrap(n):\n",
    "        \"\"\"Haha I am warp\"\"\"\n",
    "        result = f(n)\n",
    "        call_time_with_arg[(f.__name__, n)] += 1\n",
    "#         print(call_time_with_arg)\n",
    "        return result\n",
    "    return wrap"
   ]
  },
  {
   "cell_type": "code",
   "execution_count": 35,
   "metadata": {},
   "outputs": [],
   "source": [
    "def add_ten(n): return n + 10"
   ]
  },
  {
   "cell_type": "code",
   "execution_count": 36,
   "metadata": {},
   "outputs": [
    {
     "data": {
      "text/plain": [
       "20"
      ]
     },
     "execution_count": 36,
     "metadata": {},
     "output_type": "execute_result"
    }
   ],
   "source": [
    "add_ten(10)"
   ]
  },
  {
   "cell_type": "code",
   "execution_count": 37,
   "metadata": {},
   "outputs": [],
   "source": [
    "add_ten = get_call_time(add_ten)"
   ]
  },
  {
   "cell_type": "code",
   "execution_count": 41,
   "metadata": {},
   "outputs": [],
   "source": [
    "@get_call_time\n",
    "def add_twenty(n):\n",
    "    return n + 20"
   ]
  },
  {
   "cell_type": "code",
   "execution_count": 42,
   "metadata": {},
   "outputs": [
    {
     "name": "stdout",
     "output_type": "stream",
     "text": [
      "defaultdict(<class 'int'>, {('add_twenty', 9): 1})\n"
     ]
    },
    {
     "data": {
      "text/plain": [
       "29"
      ]
     },
     "execution_count": 42,
     "metadata": {},
     "output_type": "execute_result"
    }
   ],
   "source": [
    "#由显示可以看出来，加了装饰器后，函数已经被添加了功能\n",
    "add_twenty(9)"
   ]
  },
  {
   "cell_type": "code",
   "execution_count": 43,
   "metadata": {},
   "outputs": [],
   "source": [
    "add_twenty = get_call_time(add_twenty)"
   ]
  },
  {
   "cell_type": "code",
   "execution_count": 44,
   "metadata": {},
   "outputs": [
    {
     "name": "stdout",
     "output_type": "stream",
     "text": [
      "defaultdict(<class 'int'>, {('add_twenty', 9): 2})\n",
      "defaultdict(<class 'int'>, {('add_twenty', 9): 3})\n"
     ]
    },
    {
     "data": {
      "text/plain": [
       "29"
      ]
     },
     "execution_count": 44,
     "metadata": {},
     "output_type": "execute_result"
    }
   ],
   "source": [
    "add_twenty(9)"
   ]
  },
  {
   "cell_type": "code",
   "execution_count": 9,
   "metadata": {},
   "outputs": [],
   "source": [
    "#储存已经有的划分方式，加速动态规划过程\n",
    "from functools import wraps\n",
    "\n",
    "def memo(f):\n",
    "    memo.already_computed = {}\n",
    "    @wraps(f)\n",
    "    def _wrap(arg):\n",
    "        result = None\n",
    "        \n",
    "        if arg in memo.already_computed:\n",
    "            result = memo.already_computed[arg]\n",
    "        else:\n",
    "            result = f(arg)\n",
    "            memo.already_computed[arg] = result\n",
    "            \n",
    "        return result\n",
    "    \n",
    "    return _wrap"
   ]
  },
  {
   "cell_type": "code",
   "execution_count": 10,
   "metadata": {},
   "outputs": [],
   "source": [
    "solution = {}"
   ]
  },
  {
   "cell_type": "code",
   "execution_count": 21,
   "metadata": {},
   "outputs": [],
   "source": [
    "@memo\n",
    "@get_call_time\n",
    "def r(n):\n",
    "    \"\"\"\n",
    "    Args: n is the iron length\n",
    "    Return: the max revenue \n",
    "    \"\"\"\n",
    "    \n",
    "    \n",
    "    max_price, max_split = max([(price[n],0)] + [(r(i) + r(n-i), i) for i in range(1, n)], key = lambda x: x[0])\n",
    "    \n",
    "    solution[n] = (n - max_split, max_split)\n",
    "    \n",
    "    return max_price"
   ]
  },
  {
   "cell_type": "code",
   "execution_count": 22,
   "metadata": {},
   "outputs": [
    {
     "data": {
      "text/plain": [
       "118"
      ]
     },
     "execution_count": 22,
     "metadata": {},
     "output_type": "execute_result"
    }
   ],
   "source": [
    "r(38)"
   ]
  },
  {
   "cell_type": "code",
   "execution_count": 23,
   "metadata": {},
   "outputs": [
    {
     "data": {
      "text/plain": [
       "{1: (1, 0),\n",
       " 2: (2, 0),\n",
       " 3: (3, 0),\n",
       " 4: (2, 2),\n",
       " 5: (3, 2),\n",
       " 6: (6, 0),\n",
       " 7: (6, 1),\n",
       " 8: (6, 2),\n",
       " 9: (6, 3),\n",
       " 10: (10, 0),\n",
       " 11: (11, 0),\n",
       " 12: (11, 1),\n",
       " 13: (11, 2),\n",
       " 14: (11, 3),\n",
       " 15: (13, 2),\n",
       " 16: (14, 2),\n",
       " 17: (11, 6),\n",
       " 18: (17, 1),\n",
       " 19: (17, 2),\n",
       " 20: (17, 3),\n",
       " 21: (11, 10),\n",
       " 22: (11, 11),\n",
       " 23: (22, 1),\n",
       " 24: (22, 2),\n",
       " 25: (22, 3),\n",
       " 26: (24, 2),\n",
       " 27: (25, 2),\n",
       " 28: (22, 6),\n",
       " 29: (28, 1),\n",
       " 30: (28, 2),\n",
       " 31: (28, 3),\n",
       " 32: (22, 10),\n",
       " 33: (22, 11),\n",
       " 34: (33, 1),\n",
       " 35: (33, 2),\n",
       " 36: (33, 3),\n",
       " 37: (35, 2),\n",
       " 38: (36, 2),\n",
       " 39: (33, 6),\n",
       " 40: (39, 1),\n",
       " 41: (39, 2),\n",
       " 42: (39, 3),\n",
       " 43: (33, 10),\n",
       " 44: (33, 11),\n",
       " 45: (44, 1),\n",
       " 46: (44, 2),\n",
       " 47: (44, 3),\n",
       " 48: (46, 2),\n",
       " 49: (47, 2),\n",
       " 50: (44, 6),\n",
       " 51: (50, 1),\n",
       " 52: (50, 2),\n",
       " 53: (50, 3),\n",
       " 54: (44, 10),\n",
       " 55: (44, 11),\n",
       " 56: (55, 1),\n",
       " 57: (55, 2),\n",
       " 58: (55, 3),\n",
       " 59: (57, 2),\n",
       " 60: (58, 2),\n",
       " 61: (55, 6),\n",
       " 62: (61, 1),\n",
       " 63: (61, 2),\n",
       " 64: (61, 3),\n",
       " 65: (55, 10),\n",
       " 66: (55, 11),\n",
       " 67: (66, 1),\n",
       " 68: (66, 2),\n",
       " 69: (66, 3),\n",
       " 70: (68, 2),\n",
       " 71: (69, 2),\n",
       " 72: (66, 6),\n",
       " 73: (72, 1),\n",
       " 74: (72, 2),\n",
       " 75: (72, 3),\n",
       " 76: (66, 10),\n",
       " 77: (66, 11),\n",
       " 78: (77, 1),\n",
       " 79: (77, 2),\n",
       " 80: (77, 3),\n",
       " 81: (79, 2),\n",
       " 82: (80, 2),\n",
       " 83: (77, 6),\n",
       " 84: (83, 1),\n",
       " 85: (83, 2),\n",
       " 86: (83, 3),\n",
       " 87: (77, 10),\n",
       " 88: (77, 11),\n",
       " 89: (88, 1),\n",
       " 90: (88, 2),\n",
       " 91: (88, 3),\n",
       " 92: (90, 2),\n",
       " 93: (91, 2),\n",
       " 94: (88, 6),\n",
       " 95: (94, 1),\n",
       " 96: (94, 2),\n",
       " 97: (94, 3),\n",
       " 98: (88, 10),\n",
       " 99: (88, 11),\n",
       " 100: (99, 1),\n",
       " 101: (99, 2),\n",
       " 102: (99, 3),\n",
       " 103: (101, 2),\n",
       " 104: (102, 2),\n",
       " 105: (99, 6),\n",
       " 106: (105, 1),\n",
       " 107: (105, 2),\n",
       " 108: (105, 3),\n",
       " 109: (99, 10),\n",
       " 110: (99, 11),\n",
       " 111: (110, 1),\n",
       " 112: (110, 2),\n",
       " 113: (110, 3),\n",
       " 114: (112, 2),\n",
       " 115: (113, 2),\n",
       " 116: (110, 6),\n",
       " 117: (116, 1),\n",
       " 118: (116, 2),\n",
       " 119: (116, 3),\n",
       " 120: (110, 10),\n",
       " 121: (110, 11),\n",
       " 122: (121, 1),\n",
       " 123: (121, 2),\n",
       " 124: (121, 3),\n",
       " 125: (123, 2),\n",
       " 126: (124, 2),\n",
       " 127: (121, 6),\n",
       " 128: (127, 1),\n",
       " 129: (127, 2),\n",
       " 130: (127, 3),\n",
       " 131: (121, 10),\n",
       " 132: (121, 11),\n",
       " 133: (132, 1),\n",
       " 134: (132, 2),\n",
       " 135: (132, 3),\n",
       " 136: (134, 2),\n",
       " 137: (135, 2),\n",
       " 138: (132, 6),\n",
       " 139: (138, 1),\n",
       " 140: (138, 2),\n",
       " 141: (138, 3),\n",
       " 142: (132, 10),\n",
       " 143: (132, 11),\n",
       " 144: (143, 1),\n",
       " 145: (143, 2),\n",
       " 146: (143, 3),\n",
       " 147: (145, 2),\n",
       " 148: (146, 2),\n",
       " 149: (143, 6),\n",
       " 150: (149, 1),\n",
       " 151: (149, 2),\n",
       " 152: (149, 3),\n",
       " 153: (143, 10),\n",
       " 154: (143, 11),\n",
       " 155: (154, 1),\n",
       " 156: (154, 2),\n",
       " 157: (154, 3),\n",
       " 158: (156, 2),\n",
       " 159: (157, 2),\n",
       " 160: (154, 6),\n",
       " 161: (160, 1),\n",
       " 162: (160, 2),\n",
       " 163: (160, 3),\n",
       " 164: (154, 10),\n",
       " 165: (154, 11),\n",
       " 166: (165, 1),\n",
       " 167: (165, 2),\n",
       " 168: (165, 3),\n",
       " 169: (167, 2),\n",
       " 170: (168, 2),\n",
       " 171: (165, 6),\n",
       " 172: (171, 1),\n",
       " 173: (171, 2),\n",
       " 174: (171, 3),\n",
       " 175: (165, 10),\n",
       " 176: (165, 11),\n",
       " 177: (176, 1),\n",
       " 178: (176, 2),\n",
       " 179: (176, 3),\n",
       " 180: (178, 2),\n",
       " 181: (179, 2),\n",
       " 182: (176, 6),\n",
       " 183: (182, 1),\n",
       " 184: (182, 2),\n",
       " 185: (182, 3),\n",
       " 186: (176, 10),\n",
       " 187: (176, 11),\n",
       " 188: (187, 1),\n",
       " 189: (187, 2),\n",
       " 190: (187, 3),\n",
       " 191: (189, 2),\n",
       " 192: (190, 2),\n",
       " 193: (187, 6),\n",
       " 194: (193, 1),\n",
       " 195: (193, 2),\n",
       " 196: (193, 3),\n",
       " 197: (187, 10),\n",
       " 198: (187, 11),\n",
       " 199: (198, 1),\n",
       " 200: (198, 2),\n",
       " 201: (198, 3),\n",
       " 202: (200, 2),\n",
       " 203: (201, 2),\n",
       " 204: (198, 6),\n",
       " 205: (204, 1),\n",
       " 206: (204, 2),\n",
       " 207: (204, 3),\n",
       " 208: (198, 10),\n",
       " 209: (198, 11),\n",
       " 210: (209, 1),\n",
       " 211: (209, 2),\n",
       " 212: (209, 3),\n",
       " 213: (211, 2),\n",
       " 214: (212, 2),\n",
       " 215: (209, 6),\n",
       " 216: (215, 1),\n",
       " 217: (215, 2),\n",
       " 218: (215, 3),\n",
       " 219: (209, 10),\n",
       " 220: (209, 11),\n",
       " 221: (220, 1),\n",
       " 222: (220, 2),\n",
       " 223: (220, 3),\n",
       " 224: (222, 2),\n",
       " 225: (223, 2),\n",
       " 226: (220, 6),\n",
       " 227: (226, 1),\n",
       " 228: (226, 2),\n",
       " 229: (226, 3),\n",
       " 230: (220, 10),\n",
       " 231: (220, 11),\n",
       " 232: (231, 1),\n",
       " 233: (231, 2),\n",
       " 234: (231, 3),\n",
       " 235: (233, 2),\n",
       " 236: (234, 2),\n",
       " 237: (231, 6),\n",
       " 238: (237, 1),\n",
       " 239: (237, 2),\n",
       " 240: (237, 3),\n",
       " 241: (231, 10),\n",
       " 242: (231, 11),\n",
       " 243: (242, 1),\n",
       " 244: (242, 2),\n",
       " 245: (242, 3),\n",
       " 246: (244, 2),\n",
       " 247: (245, 2),\n",
       " 248: (242, 6),\n",
       " 249: (248, 1),\n",
       " 250: (248, 2),\n",
       " 251: (248, 3),\n",
       " 252: (242, 10),\n",
       " 253: (242, 11),\n",
       " 254: (253, 1),\n",
       " 255: (253, 2),\n",
       " 256: (253, 3),\n",
       " 257: (255, 2),\n",
       " 258: (256, 2),\n",
       " 259: (253, 6),\n",
       " 260: (259, 1),\n",
       " 261: (259, 2),\n",
       " 262: (259, 3),\n",
       " 263: (253, 10),\n",
       " 264: (253, 11),\n",
       " 265: (264, 1),\n",
       " 266: (264, 2),\n",
       " 267: (264, 3),\n",
       " 268: (266, 2),\n",
       " 269: (267, 2),\n",
       " 270: (264, 6),\n",
       " 271: (270, 1),\n",
       " 272: (270, 2),\n",
       " 273: (270, 3),\n",
       " 274: (264, 10),\n",
       " 275: (264, 11)}"
      ]
     },
     "execution_count": 23,
     "metadata": {},
     "output_type": "execute_result"
    }
   ],
   "source": [
    "solution"
   ]
  },
  {
   "cell_type": "code",
   "execution_count": 24,
   "metadata": {},
   "outputs": [
    {
     "data": {
      "text/plain": [
       "875"
      ]
     },
     "execution_count": 24,
     "metadata": {},
     "output_type": "execute_result"
    }
   ],
   "source": [
    "r(275)"
   ]
  },
  {
   "cell_type": "code",
   "execution_count": 28,
   "metadata": {},
   "outputs": [],
   "source": [
    "# call_time_with_arg"
   ]
  },
  {
   "cell_type": "code",
   "execution_count": 29,
   "metadata": {},
   "outputs": [
    {
     "data": {
      "text/plain": [
       "[(('r', 1), 1),\n",
       " (('r', 2), 1),\n",
       " (('r', 3), 1),\n",
       " (('r', 4), 1),\n",
       " (('r', 5), 1),\n",
       " (('r', 6), 1),\n",
       " (('r', 7), 1),\n",
       " (('r', 8), 1),\n",
       " (('r', 9), 1),\n",
       " (('r', 10), 1),\n",
       " (('r', 11), 1),\n",
       " (('r', 12), 1),\n",
       " (('r', 13), 1),\n",
       " (('r', 14), 1),\n",
       " (('r', 15), 1),\n",
       " (('r', 16), 1),\n",
       " (('r', 17), 1),\n",
       " (('r', 18), 1),\n",
       " (('r', 19), 1),\n",
       " (('r', 20), 1),\n",
       " (('r', 21), 1),\n",
       " (('r', 22), 1),\n",
       " (('r', 23), 1),\n",
       " (('r', 24), 1),\n",
       " (('r', 25), 1),\n",
       " (('r', 26), 1),\n",
       " (('r', 27), 1),\n",
       " (('r', 28), 1),\n",
       " (('r', 29), 1),\n",
       " (('r', 30), 1),\n",
       " (('r', 31), 1),\n",
       " (('r', 32), 1),\n",
       " (('r', 33), 1),\n",
       " (('r', 34), 1),\n",
       " (('r', 35), 1),\n",
       " (('r', 36), 1),\n",
       " (('r', 37), 1),\n",
       " (('r', 38), 1),\n",
       " (('r', 39), 1),\n",
       " (('r', 40), 1),\n",
       " (('r', 41), 1),\n",
       " (('r', 42), 1),\n",
       " (('r', 43), 1),\n",
       " (('r', 44), 1),\n",
       " (('r', 45), 1),\n",
       " (('r', 46), 1),\n",
       " (('r', 47), 1),\n",
       " (('r', 48), 1),\n",
       " (('r', 49), 1),\n",
       " (('r', 50), 1),\n",
       " (('r', 51), 1),\n",
       " (('r', 52), 1),\n",
       " (('r', 53), 1),\n",
       " (('r', 54), 1),\n",
       " (('r', 55), 1),\n",
       " (('r', 56), 1),\n",
       " (('r', 57), 1),\n",
       " (('r', 58), 1),\n",
       " (('r', 59), 1),\n",
       " (('r', 60), 1),\n",
       " (('r', 61), 1),\n",
       " (('r', 62), 1),\n",
       " (('r', 63), 1),\n",
       " (('r', 64), 1),\n",
       " (('r', 65), 1),\n",
       " (('r', 66), 1),\n",
       " (('r', 67), 1),\n",
       " (('r', 68), 1),\n",
       " (('r', 69), 1),\n",
       " (('r', 70), 1),\n",
       " (('r', 71), 1),\n",
       " (('r', 72), 1),\n",
       " (('r', 73), 1),\n",
       " (('r', 74), 1),\n",
       " (('r', 75), 1),\n",
       " (('r', 76), 1),\n",
       " (('r', 77), 1),\n",
       " (('r', 78), 1),\n",
       " (('r', 79), 1),\n",
       " (('r', 80), 1),\n",
       " (('r', 81), 1),\n",
       " (('r', 82), 1),\n",
       " (('r', 83), 1),\n",
       " (('r', 84), 1),\n",
       " (('r', 85), 1),\n",
       " (('r', 86), 1),\n",
       " (('r', 87), 1),\n",
       " (('r', 88), 1),\n",
       " (('r', 89), 1),\n",
       " (('r', 90), 1),\n",
       " (('r', 91), 1),\n",
       " (('r', 92), 1),\n",
       " (('r', 93), 1),\n",
       " (('r', 94), 1),\n",
       " (('r', 95), 1),\n",
       " (('r', 96), 1),\n",
       " (('r', 97), 1),\n",
       " (('r', 98), 1),\n",
       " (('r', 99), 1),\n",
       " (('r', 100), 1),\n",
       " (('r', 101), 1),\n",
       " (('r', 102), 1),\n",
       " (('r', 103), 1),\n",
       " (('r', 104), 1),\n",
       " (('r', 105), 1),\n",
       " (('r', 106), 1),\n",
       " (('r', 107), 1),\n",
       " (('r', 108), 1),\n",
       " (('r', 109), 1),\n",
       " (('r', 110), 1),\n",
       " (('r', 111), 1),\n",
       " (('r', 112), 1),\n",
       " (('r', 113), 1),\n",
       " (('r', 114), 1),\n",
       " (('r', 115), 1),\n",
       " (('r', 116), 1),\n",
       " (('r', 117), 1),\n",
       " (('r', 118), 1),\n",
       " (('r', 119), 1),\n",
       " (('r', 120), 1),\n",
       " (('r', 121), 1),\n",
       " (('r', 122), 1),\n",
       " (('r', 123), 1),\n",
       " (('r', 124), 1),\n",
       " (('r', 125), 1),\n",
       " (('r', 126), 1),\n",
       " (('r', 127), 1),\n",
       " (('r', 128), 1),\n",
       " (('r', 129), 1),\n",
       " (('r', 130), 1),\n",
       " (('r', 131), 1),\n",
       " (('r', 132), 1),\n",
       " (('r', 133), 1),\n",
       " (('r', 134), 1),\n",
       " (('r', 135), 1),\n",
       " (('r', 136), 1),\n",
       " (('r', 137), 1),\n",
       " (('r', 138), 1),\n",
       " (('r', 139), 1),\n",
       " (('r', 140), 1),\n",
       " (('r', 141), 1),\n",
       " (('r', 142), 1),\n",
       " (('r', 143), 1),\n",
       " (('r', 144), 1),\n",
       " (('r', 145), 1),\n",
       " (('r', 146), 1),\n",
       " (('r', 147), 1),\n",
       " (('r', 148), 1),\n",
       " (('r', 149), 1),\n",
       " (('r', 150), 1),\n",
       " (('r', 151), 1),\n",
       " (('r', 152), 1),\n",
       " (('r', 153), 1),\n",
       " (('r', 154), 1),\n",
       " (('r', 155), 1),\n",
       " (('r', 156), 1),\n",
       " (('r', 157), 1),\n",
       " (('r', 158), 1),\n",
       " (('r', 159), 1),\n",
       " (('r', 160), 1),\n",
       " (('r', 161), 1),\n",
       " (('r', 162), 1),\n",
       " (('r', 163), 1),\n",
       " (('r', 164), 1),\n",
       " (('r', 165), 1),\n",
       " (('r', 166), 1),\n",
       " (('r', 167), 1),\n",
       " (('r', 168), 1),\n",
       " (('r', 169), 1),\n",
       " (('r', 170), 1),\n",
       " (('r', 171), 1),\n",
       " (('r', 172), 1),\n",
       " (('r', 173), 1),\n",
       " (('r', 174), 1),\n",
       " (('r', 175), 1),\n",
       " (('r', 176), 1),\n",
       " (('r', 177), 1),\n",
       " (('r', 178), 1),\n",
       " (('r', 179), 1),\n",
       " (('r', 180), 1),\n",
       " (('r', 181), 1),\n",
       " (('r', 182), 1),\n",
       " (('r', 183), 1),\n",
       " (('r', 184), 1),\n",
       " (('r', 185), 1),\n",
       " (('r', 186), 1),\n",
       " (('r', 187), 1),\n",
       " (('r', 188), 1),\n",
       " (('r', 189), 1),\n",
       " (('r', 190), 1),\n",
       " (('r', 191), 1),\n",
       " (('r', 192), 1),\n",
       " (('r', 193), 1),\n",
       " (('r', 194), 1),\n",
       " (('r', 195), 1),\n",
       " (('r', 196), 1),\n",
       " (('r', 197), 1),\n",
       " (('r', 198), 1),\n",
       " (('r', 199), 1),\n",
       " (('r', 200), 1),\n",
       " (('r', 201), 1),\n",
       " (('r', 202), 1),\n",
       " (('r', 203), 1),\n",
       " (('r', 204), 1),\n",
       " (('r', 205), 1),\n",
       " (('r', 206), 1),\n",
       " (('r', 207), 1),\n",
       " (('r', 208), 1),\n",
       " (('r', 209), 1),\n",
       " (('r', 210), 1),\n",
       " (('r', 211), 1),\n",
       " (('r', 212), 1),\n",
       " (('r', 213), 1),\n",
       " (('r', 214), 1),\n",
       " (('r', 215), 1),\n",
       " (('r', 216), 1),\n",
       " (('r', 217), 1),\n",
       " (('r', 218), 1),\n",
       " (('r', 219), 1),\n",
       " (('r', 220), 1),\n",
       " (('r', 221), 1),\n",
       " (('r', 222), 1),\n",
       " (('r', 223), 1),\n",
       " (('r', 224), 1),\n",
       " (('r', 225), 1),\n",
       " (('r', 226), 1),\n",
       " (('r', 227), 1),\n",
       " (('r', 228), 1),\n",
       " (('r', 229), 1),\n",
       " (('r', 230), 1),\n",
       " (('r', 231), 1),\n",
       " (('r', 232), 1),\n",
       " (('r', 233), 1),\n",
       " (('r', 234), 1),\n",
       " (('r', 235), 1),\n",
       " (('r', 236), 1),\n",
       " (('r', 237), 1),\n",
       " (('r', 238), 1),\n",
       " (('r', 239), 1),\n",
       " (('r', 240), 1),\n",
       " (('r', 241), 1),\n",
       " (('r', 242), 1),\n",
       " (('r', 243), 1),\n",
       " (('r', 244), 1),\n",
       " (('r', 245), 1),\n",
       " (('r', 246), 1),\n",
       " (('r', 247), 1),\n",
       " (('r', 248), 1),\n",
       " (('r', 249), 1),\n",
       " (('r', 250), 1),\n",
       " (('r', 251), 1),\n",
       " (('r', 252), 1),\n",
       " (('r', 253), 1),\n",
       " (('r', 254), 1),\n",
       " (('r', 255), 1),\n",
       " (('r', 256), 1),\n",
       " (('r', 257), 1),\n",
       " (('r', 258), 1),\n",
       " (('r', 259), 1),\n",
       " (('r', 260), 1),\n",
       " (('r', 261), 1),\n",
       " (('r', 262), 1),\n",
       " (('r', 263), 1),\n",
       " (('r', 264), 1),\n",
       " (('r', 265), 1),\n",
       " (('r', 266), 1),\n",
       " (('r', 267), 1),\n",
       " (('r', 268), 1),\n",
       " (('r', 269), 1),\n",
       " (('r', 270), 1),\n",
       " (('r', 271), 1),\n",
       " (('r', 272), 1),\n",
       " (('r', 273), 1),\n",
       " (('r', 274), 1),\n",
       " (('r', 275), 1)]"
      ]
     },
     "execution_count": 29,
     "metadata": {},
     "output_type": "execute_result"
    }
   ],
   "source": [
    "from collections import Counter\n",
    "Counter(call_time_with_arg).most_common()"
   ]
  },
  {
   "cell_type": "markdown",
   "metadata": {},
   "source": [
    "# 作业：使用L1范数损失的梯度下降"
   ]
  },
  {
   "cell_type": "code",
   "execution_count": 182,
   "metadata": {},
   "outputs": [],
   "source": [
    "from sklearn.datasets import load_boston"
   ]
  },
  {
   "cell_type": "code",
   "execution_count": 183,
   "metadata": {},
   "outputs": [],
   "source": [
    "data = load_boston()"
   ]
  },
  {
   "cell_type": "code",
   "execution_count": 184,
   "metadata": {},
   "outputs": [],
   "source": [
    "X, y = data['data'], data['target']"
   ]
  },
  {
   "cell_type": "code",
   "execution_count": 185,
   "metadata": {},
   "outputs": [],
   "source": [
    "import matplotlib.pyplot as plt"
   ]
  },
  {
   "cell_type": "code",
   "execution_count": 186,
   "metadata": {},
   "outputs": [
    {
     "data": {
      "text/plain": [
       "<matplotlib.collections.PathCollection at 0x230432e0128>"
      ]
     },
     "execution_count": 186,
     "metadata": {},
     "output_type": "execute_result"
    },
    {
     "data": {
      "image/png": "[encoded data removed]",
      "text/plain": [
       "<Figure size 432x288 with 1 Axes>"
      ]
     },
     "metadata": {},
     "output_type": "display_data"
    }
   ],
   "source": [
    "def draw_rm_and_price():\n",
    "    return plt.scatter(X[:,5], y)\n",
    "\n",
    "draw_rm_and_price()"
   ]
  },
  {
   "cell_type": "code",
   "execution_count": 187,
   "metadata": {},
   "outputs": [],
   "source": [
    "def price(x, k, b): return k*x + b"
   ]
  },
  {
   "cell_type": "code",
   "execution_count": 188,
   "metadata": {},
   "outputs": [],
   "source": [
    "def loss(y, y_hat):\n",
    "    return sum(np.abs(y_i - y_hat_i) for y_i, y_hat_i in zip(list(y), list(y_hat)))/ len(list(y))"
   ]
  },
  {
   "cell_type": "code",
   "execution_count": 189,
   "metadata": {},
   "outputs": [],
   "source": [
    "def partial_k(x, y, y_hat):\n",
    "    \n",
    "    n = len(y)\n",
    "    \n",
    "    gradient = 0\n",
    "    \n",
    "    for x_i, y_i, y_hat_i in zip(list(x), list(y), list(y_hat)):\n",
    "        \n",
    "        gradient += abs(y_i - x_i)\n",
    "    \n",
    "    return gradient/ n\n",
    "\n",
    "def partial_b(x, y, y_hat):\n",
    "    \n",
    "    n = len(y)\n",
    "    \n",
    "    gradient = 0\n",
    "    \n",
    "    for x_i, y_i, y_hat_i in zip(list(x), list(y), list(y_hat)):\n",
    "        \n",
    "        gradient += abs(y_i - 1)\n",
    "    \n",
    "    return gradient/ n         "
   ]
  },
  {
   "cell_type": "code",
   "execution_count": 190,
   "metadata": {},
   "outputs": [],
   "source": [
    "import random\n",
    "import numpy as np"
   ]
  },
  {
   "cell_type": "code",
   "execution_count": 203,
   "metadata": {},
   "outputs": [],
   "source": [
    "def gradient_decrease():\n",
    "    try_times = 200\n",
    "    X, y = data['data'], data['target']\n",
    "    \n",
    "    current_k = 40   #random.random()*200 - 100\n",
    "    current_b = -80  #random.random()*200 - 100\n",
    "    \n",
    "    learning_rate = 0.01\n",
    "    \n",
    "    loss_record = []\n",
    "    \n",
    "    for i in range(try_times):\n",
    "        \n",
    "        price_estimate = [price(x, current_k, current_b) for x in X[:,5]]\n",
    "        \n",
    "        current_loss = loss(y, price_estimate)\n",
    "        \n",
    "#         print(current_loss)\n",
    "        \n",
    "        k_gradient = partial_k(X[:,5],y, price_estimate)\n",
    "                \n",
    "        b_gradient = partial_b(X[:,5],y, price_estimate)\n",
    "                \n",
    "        current_k = current_k - learning_rate * k_gradient\n",
    "                \n",
    "        current_b = current_b - learning_rate * b_gradient\n",
    "        \n",
    "        new_loss = loss(y, [price(x, current_k, current_b) for x in X[:,5]])\n",
    "        \n",
    "        loss_record.append(new_loss)\n",
    "        \n",
    "#         print(new_loss)\n",
    "#         print(current_loss)\n",
    "        \n",
    "        if new_loss < current_loss:\n",
    "            \n",
    "            current_loss = new_loss\n",
    "            \n",
    "            if i % 20 == 0:\n",
    "                \n",
    "                print('When time is : {}, get best_k: {} best_b: {}, and the loss is: {}'.format(i, current_k, current_b, current_loss))\n",
    "                \n",
    "        elif new_loss >= current_loss:\n",
    "            \n",
    "            print('没有梯度下降')\n",
    "            break;\n",
    "            \n",
    "        \n",
    "    plt.scatter(X[:,5], y)\n",
    "    plt.scatter(X[:,5], [price(x, current_k, current_b) for x in X[:,5]])\n",
    "                "
   ]
  },
  {
   "cell_type": "code",
   "execution_count": 204,
   "metadata": {},
   "outputs": [
    {
     "name": "stdout",
     "output_type": "stream",
     "text": [
      "When time is : 0, get best_k: 39.83745808300395 best_b: -80.2153280632411, and the loss is: 147.61572458577996\n",
      "When time is : 20, get best_k: 36.58661974308299 best_b: -84.52188932806315, and the loss is: 122.87883290216904\n",
      "When time is : 40, get best_k: 33.33578140316203 best_b: -88.8284505928852, and the loss is: 98.14194121855817\n",
      "When time is : 60, get best_k: 30.08494306324107 best_b: -93.13501185770725, and the loss is: 73.45848592393511\n",
      "When time is : 80, get best_k: 26.83410472332011 best_b: -97.4415731225293, and the loss is: 48.90746565056237\n",
      "When time is : 100, get best_k: 23.58326638339915 best_b: -101.74813438735136, and the loss is: 24.706091409065746\n",
      "When time is : 120, get best_k: 20.33242804347819 best_b: -106.05469565217341, and the loss is: 7.237423375288242\n",
      "没有梯度下降\n"
     ]
    },
    {
     "data": {
      "image/png": "[encoded data removed]",
      "text/plain": [
       "<Figure size 432x288 with 1 Axes>"
      ]
     },
     "metadata": {},
     "output_type": "display_data"
    }
   ],
   "source": [
    "gradient_decrease()"
   ]
  },
  {
   "cell_type": "code",
   "execution_count": null,
   "metadata": {},
   "outputs": [],
   "source": []
  }
 ],
 "metadata": {
  "kernelspec": {
   "display_name": "Python 3",
   "language": "python",
   "name": "python3"
  },
  "language_info": {
   "codemirror_mode": {
    "name": "ipython",
    "version": 3
   },
   "file_extension": ".py",
   "mimetype": "text/x-python",
   "name": "python",
   "nbconvert_exporter": "python",
   "pygments_lexer": "ipython3",
   "version": "3.6.5"
  }
 },
 "nbformat": 4,
 "nbformat_minor": 2
}
