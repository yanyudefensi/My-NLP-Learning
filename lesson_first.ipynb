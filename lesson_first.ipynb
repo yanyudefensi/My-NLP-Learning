{
 "cells": [
  {
   "cell_type": "markdown",
   "metadata": {},
   "source": [
    "## Answer the question"
   ]
  },
  {
   "cell_type": "markdown",
   "metadata": {},
   "source": [
    "### Can you come up out 3 sceneraies which use AI methods?\n",
    "Advertising recommanded、Automatic drive、simultaneous interpretation"
   ]
  },
  {
   "cell_type": "markdown",
   "metadata": {},
   "source": [
    "### How do we use Github; Why do we use Jupyter and Pycharm？\n",
    "We use github to share our coding and ideas to with other viewers in Internet.Also, it is convenient for our teaching assistant to check our homework.We use jupyter notebook to show the code execution effect and Pycharm is not good for this.But Pycharm is designed for software exploitation and we need it when the number of coding is large or the coding is in enormous resource consumption."
   ]
  },
  {
   "cell_type": "markdown",
   "metadata": {},
   "source": [
    "### What's the Probability Model\n",
    "Probabilistic models (generating models) describe the combined probabilities of X and Y or conditional probability distributions such as P (X | Y) through function F.\n"
   ]
  },
  {
   "cell_type": "markdown",
   "metadata": {},
   "source": [
    "### Can you came up with some sceneraies at which we could use Probability Model\n",
    "Spam filtering、NLP(language translate)、Option and Futures pricing"
   ]
  },
  {
   "cell_type": "markdown",
   "metadata": {},
   "source": [
    "### Why do we use probability and what's the difficult points for programming based on parsing and pattern match？\n",
    "Because natural language has so many kinds of grammars and sentence patterns that any exports can not list all of them.Besides, when the input sentence pattern change,the programming based on parsing and pattern match are easy to fail.And scientist find it more easier to deal with NLP\n",
    "problems by using probability model."
   ]
  },
  {
   "cell_type": "markdown",
   "metadata": {},
   "source": [
    "### What's the Language Model?\n",
    "Statistical language model：\n",
    "\n",
    "A language model is usually constructed as the probability distribution of string s P (s). P (s) actually reflects the probability that s appears as a sentence.\n",
    "The probability is that the combination of strings appears in the training corpus regardless of whether the sentence is grammatically correct or not. If the training material comes from a human language, then the probability is whether a sentence is human or not."
   ]
  },
  {
   "cell_type": "markdown",
   "metadata": {},
   "source": [
    "### Can you came up with some sceneraies at which we could use Language Model?\n",
    "Speech recognition, machine translation, syntactic analysis"
   ]
  },
  {
   "cell_type": "markdown",
   "metadata": {},
   "source": [
    "### What's the 1-gram language model?\n",
    "### the statistical language model:\n",
    "### p(s) = p(w1,w2,...wT) = p(w1)p(w2|w1)p(w3|w1w2)........p(wT|w1.....wT-1)\n",
    "\n",
    "Because the volume of calculations will be too large if we use the formula above.\n",
    "\n",
    "We must introduce an asumption that the probability of a random word appearing is only related to the limited number of n words appearing in front of it.\n",
    "\n",
    "When n equals to one.This is 1-gram language model.\n",
    "\n",
    "### p(s) = p(w1,w2,...wT) = p(w1)p(w2|w1)p(w3|w2)........p(wT|wT-1)"
   ]
  },
  {
   "cell_type": "markdown",
   "metadata": {},
   "source": [
    "### What's the disadvantages and advantages of 1-gram language model?\n",
    "### Advantages:\n",
    "\n",
    "The volume of calculations is small and most of the scene it work.\n",
    "\n",
    "### Disadvantages:\n",
    "\n",
    "Let' us give a case to show the disadvantages.\n",
    "p('we eat breakfast in the morning'） and p（'we eat dinner in the morning'）\n",
    "\n",
    "It is easy to find that the breakfast and the morning has an relation.But 1-gram language model can't find a better sentence between 'we eat breakfast in the morning' and 'we eat dinner in the morning' because of the conditional independence hypothesis."
   ]
  },
  {
   "cell_type": "markdown",
   "metadata": {},
   "source": [
    "### What't the 2-gram models?\n",
    "We introduce an asumption that the probability of a random word appearing is only related to the limited number of 2 words appearing in front of it.\n",
    "\n",
    "### p(s) = p(w1,w2,...wT) = p(w1)p(w2|w1)p(w3|w2w1)p(w4|w3w2)........p(wT|wT-1wT-2)"
   ]
  },
  {
   "cell_type": "markdown",
   "metadata": {},
   "source": [
    "## A simple grammer"
   ]
  },
  {
   "cell_type": "code",
   "execution_count": 296,
   "metadata": {},
   "outputs": [],
   "source": [
    "simple_grammar = \"\"\"\n",
    "sentence => noun_phrase verb_phrase\n",
    "noun_phrase => Article Adj* noun\n",
    "Adj* => null | Adj Adj*\n",
    "verb_phrase => verb noun_phrase\n",
    "Article =>  一个 | 这个\n",
    "noun =>   女人 |  篮球 | 桌子 | 小猫\n",
    "verb => 看着   |  坐在 |  听着 | 看见\n",
    "Adj =>  蓝色的 | 好看的 | 小小的\n",
    "\"\"\""
   ]
  },
  {
   "cell_type": "code",
   "execution_count": 297,
   "metadata": {},
   "outputs": [],
   "source": [
    "another_grammar = \"\"\"\n",
    "# \n",
    "\"\"\""
   ]
  },
  {
   "cell_type": "code",
   "execution_count": 298,
   "metadata": {},
   "outputs": [],
   "source": [
    "import random\n",
    "\n",
    "def adj():\n",
    "    return random.choice('蓝色的,好看的,小小的'.split(',')).split()[0]"
   ]
  },
  {
   "cell_type": "code",
   "execution_count": 299,
   "metadata": {},
   "outputs": [],
   "source": [
    "def adj_star():\n",
    "    return random.choice([lambda : '',lambda : adj()+adj_star()])()"
   ]
  },
  {
   "cell_type": "code",
   "execution_count": 300,
   "metadata": {},
   "outputs": [
    {
     "data": {
      "text/plain": [
       "'小小的'"
      ]
     },
     "execution_count": 300,
     "metadata": {},
     "output_type": "execute_result"
    }
   ],
   "source": [
    "adj()"
   ]
  },
  {
   "cell_type": "code",
   "execution_count": 301,
   "metadata": {},
   "outputs": [
    {
     "data": {
      "text/plain": [
       "'好看的'"
      ]
     },
     "execution_count": 301,
     "metadata": {},
     "output_type": "execute_result"
    }
   ],
   "source": [
    "adj_star()"
   ]
  },
  {
   "cell_type": "markdown",
   "metadata": {},
   "source": [
    "## But we can find that if we change the grammer ,everything must be rewritten."
   ]
  },
  {
   "cell_type": "code",
   "execution_count": 302,
   "metadata": {},
   "outputs": [],
   "source": [
    "adj_grammar = \"\"\"\n",
    "Adj* => null | Adj Adj*\n",
    "Adj =>  蓝色的 | 好看的 | 小小的\n",
    "\"\"\""
   ]
  },
  {
   "cell_type": "code",
   "execution_count": 303,
   "metadata": {},
   "outputs": [],
   "source": [
    "def create_grammar(grammar_str, split='=>', line_split='\\n'):\n",
    "    grammar = {}\n",
    "    for line in grammar_str.split(line_split):\n",
    "        if not line.strip(): continue\n",
    "        exp, stmt = line.split(split)\n",
    "#         print(exp)\n",
    "#         print(line.split(split))\n",
    "        grammar[exp.strip()] = [s.split() for s in stmt.split('|')]\n",
    "    return grammar"
   ]
  },
  {
   "cell_type": "code",
   "execution_count": 304,
   "metadata": {},
   "outputs": [],
   "source": [
    "#貌似老师这里删掉了创建语法\n",
    "grammar=create_grammar(adj_grammar)"
   ]
  },
  {
   "cell_type": "code",
   "execution_count": 305,
   "metadata": {},
   "outputs": [
    {
     "data": {
      "text/plain": [
       "[['null'], ['Adj', 'Adj*']]"
      ]
     },
     "execution_count": 305,
     "metadata": {},
     "output_type": "execute_result"
    }
   ],
   "source": [
    "grammar['Adj*']"
   ]
  },
  {
   "cell_type": "code",
   "execution_count": 306,
   "metadata": {},
   "outputs": [],
   "source": [
    "#减少冗余代码\n",
    "choice = random.choice\n",
    "'''\n",
    "simple_grammar = \"\"\"\n",
    "sentence => noun_phrase verb_phrase\n",
    "noun_phrase => Article Adj* noun\n",
    "Adj* => null | Adj Adj*\n",
    "verb_phrase => verb noun_phrase\n",
    "Article =>  一个 | 这个\n",
    "noun =>   女人 |  篮球 | 桌子 | 小猫\n",
    "verb => 看着   |  坐在 |  听着 | 看见\n",
    "Adj =>  蓝色的 | 好看的 | 小小的\n",
    "\"\"\"\n",
    "'''\n",
    "\n",
    "def generate(gram, target):\n",
    "    if target not in gram: return target # means target is a terminal expression\n",
    "    \n",
    "    expand = [generate(gram, t) for t in choice(gram[target])] #\n",
    "#     print(expand)\n",
    "    return ''.join([e if e!='/n'else '\\n' for e in expand if e!='null'])"
   ]
  },
  {
   "cell_type": "code",
   "execution_count": 307,
   "metadata": {},
   "outputs": [],
   "source": [
    "example_grammar = create_grammar(simple_grammar)"
   ]
  },
  {
   "cell_type": "code",
   "execution_count": 308,
   "metadata": {},
   "outputs": [
    {
     "data": {
      "text/plain": [
       "{'sentence': [['noun_phrase', 'verb_phrase']],\n",
       " 'noun_phrase': [['Article', 'Adj*', 'noun']],\n",
       " 'Adj*': [['null'], ['Adj', 'Adj*']],\n",
       " 'verb_phrase': [['verb', 'noun_phrase']],\n",
       " 'Article': [['一个'], ['这个']],\n",
       " 'noun': [['女人'], ['篮球'], ['桌子'], ['小猫']],\n",
       " 'verb': [['看着'], ['坐在'], ['听着'], ['看见']],\n",
       " 'Adj': [['蓝色的'], ['好看的'], ['小小的']]}"
      ]
     },
     "execution_count": 308,
     "metadata": {},
     "output_type": "execute_result"
    }
   ],
   "source": [
    "example_grammar"
   ]
  },
  {
   "cell_type": "code",
   "execution_count": 309,
   "metadata": {},
   "outputs": [
    {
     "data": {
      "text/plain": [
       "'一个蓝色的女人坐在这个篮球'"
      ]
     },
     "execution_count": 309,
     "metadata": {},
     "output_type": "execute_result"
    }
   ],
   "source": [
    "generate(gram=example_grammar, target='sentence')"
   ]
  },
  {
   "cell_type": "code",
   "execution_count": 310,
   "metadata": {},
   "outputs": [],
   "source": [
    "#在西部世界里，一个”人类“的语言可以定义为：\n",
    "\n",
    "human = \"\"\"\n",
    "human = 自己 寻找 活动\n",
    "自己 = 我 | 俺 | 我们 \n",
    "寻找 = 找找 | 想找点 \n",
    "活动 = 乐子 | 玩的\n",
    "\"\"\"\n",
    "\n",
    "#一个“接待员”的语言可以定义为\n",
    "\n",
    "host = \"\"\"\n",
    "host = 寒暄 报数 询问 业务相关 结尾 \n",
    "报数 = 我是 数字 号 ,\n",
    "数字 = 单个数字 | 数字 单个数字 \n",
    "单个数字 = 1 | 2 | 3 | 4 | 5 | 6 | 7 | 8 | 9 \n",
    "寒暄 = 称谓 打招呼 | 打招呼\n",
    "称谓 = 人称 ,\n",
    "人称 = 先生 | 女士 | 小朋友\n",
    "打招呼 = 你好 | 您好 \n",
    "询问 = 请问你要 | 您需要\n",
    "业务相关 = 玩玩 具体业务\n",
    "玩玩 = null\n",
    "具体业务 = 喝酒 | 打牌 | 打猎 | 赌博\n",
    "结尾 = 吗？\n",
    "\"\"\""
   ]
  },
  {
   "cell_type": "code",
   "execution_count": 311,
   "metadata": {},
   "outputs": [
    {
     "name": "stdout",
     "output_type": "stream",
     "text": [
      "您好我是8号,您需要打牌吗？\n",
      "你好我是71号,请问你要赌博吗？\n",
      "你好我是2号,请问你要打猎吗？\n",
      "先生,你好我是3号,您需要赌博吗？\n",
      "先生,你好我是5号,您需要赌博吗？\n",
      "女士,你好我是3号,您需要打牌吗？\n",
      "先生,你好我是2号,请问你要赌博吗？\n",
      "女士,你好我是91号,您需要喝酒吗？\n",
      "你好我是8号,请问你要赌博吗？\n",
      "先生,您好我是3979号,请问你要打牌吗？\n",
      "先生,您好我是5号,您需要赌博吗？\n",
      "您好我是6号,请问你要喝酒吗？\n",
      "你好我是6号,您需要喝酒吗？\n",
      "女士,你好我是1号,您需要喝酒吗？\n",
      "小朋友,你好我是7号,您需要打猎吗？\n",
      "小朋友,您好我是98号,您需要打猎吗？\n",
      "你好我是6号,请问你要赌博吗？\n",
      "先生,你好我是44号,请问你要喝酒吗？\n",
      "你好我是7号,您需要打猎吗？\n",
      "你好我是9号,请问你要打牌吗？\n"
     ]
    }
   ],
   "source": [
    "for i in range(20):\n",
    "    print(generate(gram=create_grammar(host, split='='),target='host'))"
   ]
  },
  {
   "cell_type": "markdown",
   "metadata": {},
   "source": [
    "## 作业部分\n",
    "## 设想两个场景，使用自己定义的语法，使用句子生成器生成句子"
   ]
  },
  {
   "cell_type": "code",
   "execution_count": 328,
   "metadata": {},
   "outputs": [],
   "source": [
    "#一个学生的语言可以定义为\n",
    "student = '''\n",
    "student = 个人 时间 举动 影响\n",
    "个人 = 学民 | 小红 | 李华 | 学霸 | 学渣\n",
    "时间 = 通宵 | 清晨 | 全日 | 十年如一日 \n",
    "举动 = 玩王者荣耀 | 学习 | 准备考研 | 出去浪 | 往死里学 | LOL排位\n",
    "影响 = 走上人生巅峰 | 成为了博士后 | 变成了咸鱼 | 成为了李哥\n",
    "'''\n",
    "\n",
    "#判断程序员资深程度，纯属调侃，请勿当真\n",
    "coding_man = '''\n",
    "coding_man =  动作 观察 判定 程序员 结论\n",
    "动作 = 仔细观察此人\n",
    "观察 = 发量 手指\n",
    "手指 =  手指修长 |  手不像打过代码\n",
    "发量 = 发量浓密 | 发量稀疏 | 发量适中\n",
    "判定 = 确定是\n",
    "程序员 = 新手程序员 | 中级程序员 | 资深程序员\n",
    "结论 = 明天来上班 | 再修炼一年 \n",
    "\n",
    "'''"
   ]
  },
  {
   "cell_type": "code",
   "execution_count": 329,
   "metadata": {},
   "outputs": [
    {
     "name": "stdout",
     "output_type": "stream",
     "text": [
      "小红清晨学习变成了咸鱼\n",
      "学渣通宵出去浪走上人生巅峰\n",
      "学霸通宵LOL排位成为了博士后\n",
      "小红十年如一日准备考研变成了咸鱼\n",
      "学民清晨玩王者荣耀成为了博士后\n",
      "小红通宵出去浪成为了博士后\n",
      "学民通宵往死里学成为了博士后\n",
      "小红十年如一日准备考研成为了博士后\n",
      "李华通宵出去浪走上人生巅峰\n",
      "学民全日学习变成了咸鱼\n",
      "小红清晨往死里学走上人生巅峰\n",
      "学民清晨准备考研走上人生巅峰\n",
      "学霸十年如一日LOL排位变成了咸鱼\n",
      "学渣全日玩王者荣耀成为了博士后\n",
      "学民十年如一日出去浪走上人生巅峰\n",
      "学民十年如一日出去浪成为了博士后\n",
      "学民十年如一日出去浪成为了李哥\n",
      "学霸清晨往死里学成为了李哥\n",
      "学渣全日出去浪走上人生巅峰\n",
      "学霸通宵往死里学成为了李哥\n"
     ]
    }
   ],
   "source": [
    "for i in range(20):\n",
    "    print(generate(gram=create_grammar(student, split='='),target='student'))"
   ]
  },
  {
   "cell_type": "code",
   "execution_count": 330,
   "metadata": {},
   "outputs": [
    {
     "name": "stdout",
     "output_type": "stream",
     "text": [
      "仔细观察此人发量浓密手不像打过代码确定是新手程序员再修炼一年\n",
      "仔细观察此人发量稀疏手指修长确定是中级程序员明天来上班\n",
      "仔细观察此人发量稀疏手指修长确定是中级程序员明天来上班\n",
      "仔细观察此人发量稀疏手指修长确定是资深程序员明天来上班\n",
      "仔细观察此人发量浓密手不像打过代码确定是资深程序员再修炼一年\n",
      "仔细观察此人发量适中手不像打过代码确定是资深程序员明天来上班\n",
      "仔细观察此人发量适中手指修长确定是资深程序员再修炼一年\n",
      "仔细观察此人发量浓密手不像打过代码确定是资深程序员再修炼一年\n",
      "仔细观察此人发量适中手指修长确定是新手程序员明天来上班\n",
      "仔细观察此人发量适中手指修长确定是新手程序员明天来上班\n",
      "仔细观察此人发量稀疏手指修长确定是中级程序员再修炼一年\n",
      "仔细观察此人发量浓密手不像打过代码确定是资深程序员明天来上班\n",
      "仔细观察此人发量稀疏手不像打过代码确定是中级程序员明天来上班\n",
      "仔细观察此人发量稀疏手指修长确定是资深程序员明天来上班\n",
      "仔细观察此人发量稀疏手不像打过代码确定是资深程序员明天来上班\n",
      "仔细观察此人发量适中手指修长确定是资深程序员明天来上班\n",
      "仔细观察此人发量稀疏手指修长确定是中级程序员明天来上班\n",
      "仔细观察此人发量浓密手不像打过代码确定是中级程序员明天来上班\n",
      "仔细观察此人发量浓密手指修长确定是资深程序员明天来上班\n",
      "仔细观察此人发量适中手不像打过代码确定是新手程序员再修炼一年\n"
     ]
    }
   ],
   "source": [
    "for i in range(20):\n",
    "    print(generate(gram=create_grammar(coding_man, split='='),target='coding_man'))"
   ]
  },
  {
   "cell_type": "markdown",
   "metadata": {},
   "source": [
    "## 定义 generate_n 生成器"
   ]
  },
  {
   "cell_type": "code",
   "execution_count": 409,
   "metadata": {},
   "outputs": [],
   "source": [
    "def generate_n(gram, target, n = 1):\n",
    "        if target not in gram: \n",
    "            return target # means target is a terminal expression\n",
    "        gather=[]\n",
    "        for i in range(n):\n",
    "            expand = [generate(gram, t) for t in choice(gram[target])] \n",
    "            sentence = ''.join([e if e!='/n'else '\\n' for e in expand if e!='null'])\n",
    "            gather.append(sentence)\n",
    "\n",
    "        return gather\n"
   ]
  },
  {
   "cell_type": "code",
   "execution_count": 410,
   "metadata": {},
   "outputs": [
    {
     "name": "stdout",
     "output_type": "stream",
     "text": [
      "['仔细观察此人发量稀疏手不像打过代码确定是中级程序员再修炼一年', '仔细观察此人发量浓密手不像打过代码确定是资深程序员再修炼一年', '仔细观察此人发量稀疏手指修长确定是资深程序员明天来上班', '仔细观察此人发量适中手不像打过代码确定是中级程序员明天来上班', '仔细观察此人发量浓密手不像打过代码确定是资深程序员明天来上班']\n"
     ]
    }
   ],
   "source": [
    "print(generate_n(gram=create_grammar(coding_man, split='='),target='coding_man',n = 5))"
   ]
  },
  {
   "cell_type": "markdown",
   "metadata": {},
   "source": [
    "## 定义generate_best生成器,要调用后面的2-gram模型，先运行后面代码"
   ]
  },
  {
   "cell_type": "code",
   "execution_count": 413,
   "metadata": {},
   "outputs": [],
   "source": [
    "def generate_best(gram,target,n,r): #n生成多少个句子作为选择，r需要多少个得分最高的句子\n",
    "    gather = generate_n(gram,target,n)\n",
    "    pro=[]\n",
    "    for i in gather:\n",
    "        pro.append(get_probablity(i))\n",
    "    rank=[]\n",
    "    for i in zip(gather,pro):\n",
    "        rank.append(i)\n",
    "    return sorted(rank,key=lambda x: x[1], reverse=True)[:r]\n",
    "    "
   ]
  },
  {
   "cell_type": "code",
   "execution_count": 416,
   "metadata": {},
   "outputs": [
    {
     "data": {
      "text/plain": [
       "[('学渣通宵学习成为了博士后', 5.477935645788611e-34),\n",
       " ('学渣十年如一日学习变成了咸鱼', 5.477935645788611e-34),\n",
       " ('学霸清晨往死里学变成了咸鱼', 5.477935645788611e-34),\n",
       " ('小红全日往死里学变成了咸鱼', 5.477935645788611e-34),\n",
       " ('学民全日学习成为了博士后', 5.477935645788611e-34),\n",
       " ('学霸全日往死里学变成了咸鱼', 5.477935645788611e-34),\n",
       " ('学渣通宵学习变成了咸鱼', 5.477935645788611e-34),\n",
       " ('小红全日往死里学走上人生巅峰', 5.477935645788611e-34),\n",
       " ('学渣通宵往死里学成为了博士后', 5.477935645788611e-34),\n",
       " ('学民十年如一日学习变成了咸鱼', 5.477935645788611e-34),\n",
       " ('学渣清晨往死里学变成了咸鱼', 5.477935645788611e-34),\n",
       " ('学渣十年如一日学习变成了咸鱼', 5.477935645788611e-34),\n",
       " ('学渣清晨出去浪成为了李哥', 1.2199451676951277e-40),\n",
       " ('学民清晨出去浪走上人生巅峰', 1.2199451676951277e-40),\n",
       " ('学民全日LOL排位成为了博士后', 1.2199451676951277e-40)]"
      ]
     },
     "execution_count": 416,
     "metadata": {},
     "output_type": "execute_result"
    }
   ],
   "source": [
    "generate_best(gram=create_grammar(student, split='='),target='student',n=50,r=15)"
   ]
  },
  {
   "cell_type": "markdown",
   "metadata": {},
   "source": [
    "## Data Driven\n",
    "我们的目标是，希望能做一个程序，然后，当输入的数据变化的时候，我们的程序不用重写。Generalization.\n",
    "\n",
    "AI? 如何能自动化解决问题，我们找到一个方法之后，输入变了，我们的这个方法，不用变。"
   ]
  },
  {
   "cell_type": "code",
   "execution_count": 101,
   "metadata": {},
   "outputs": [],
   "source": [
    "programming = \"\"\"\n",
    "stmt => if_exp | while_exp | assignment \n",
    "assignment => var = var\n",
    "if_exp => if ( var ) { /n .... stmt }\n",
    "while_exp=> while ( var ) { /n .... stmt }\n",
    "var => chars number\n",
    "chars => char | char char\n",
    "char => student | name | info  | database | course\n",
    "number => 1 | 2 | 3\n",
    "\"\"\""
   ]
  },
  {
   "cell_type": "code",
   "execution_count": 295,
   "metadata": {},
   "outputs": [
    {
     "name": "stdout",
     "output_type": "stream",
     "text": [
      "namedatabase1=databaseinfo1\n"
     ]
    }
   ],
   "source": [
    "print(generate(gram=create_grammar(programming, split='=>'), target='stmt'))"
   ]
  },
  {
   "cell_type": "markdown",
   "metadata": {},
   "source": [
    "## Language Model\n",
    "\n",
    "$$ language\\_model(String) = Probability(String) \\in (0, 1) $$\n",
    "\n",
    "$$ Pro(w_1 w_2 w_3 w_4) = Pr(w_1 | w_2 w_3 w_ 4) * P(w2 | w_3 w_4) * Pr(w_3 | w_4) * Pr(w_4)$$\n",
    "\n",
    "$$ Pro(w_1 w_2 w_3 w_4) \\sim Pr(w_1 | w_2 ) * P(w2 | w_3 ) * Pr(w_3 | w_4) * Pr(w_4)$$\n",
    "\n",
    "\n",
    "how to get $ Pr(w1 | w2 w3 w4) $ ?"
   ]
  },
  {
   "cell_type": "code",
   "execution_count": 111,
   "metadata": {},
   "outputs": [
    {
     "data": {
      "text/plain": [
       "82"
      ]
     },
     "execution_count": 111,
     "metadata": {},
     "output_type": "execute_result"
    }
   ],
   "source": [
    "#马尔科夫链\n",
    "random.choice(range(100))"
   ]
  },
  {
   "cell_type": "markdown",
   "metadata": {},
   "source": [
    "## 使用豆瓣影评作为数据源"
   ]
  },
  {
   "cell_type": "code",
   "execution_count": 1,
   "metadata": {},
   "outputs": [],
   "source": [
    "filename=r\"D:\\NLP研修班\\示例代码\\datasource\\movie_comments.csv\""
   ]
  },
  {
   "cell_type": "code",
   "execution_count": 2,
   "metadata": {},
   "outputs": [
    {
     "name": "stderr",
     "output_type": "stream",
     "text": [
      "C:\\Users\\jack\\Anaconda3\\lib\\site-packages\\IPython\\core\\interactiveshell.py:2785: DtypeWarning: Columns (0,4) have mixed types. Specify dtype option on import or set low_memory=False.\n",
      "  interactivity=interactivity, compiler=compiler, result=result)\n"
     ]
    }
   ],
   "source": [
    "import pandas as pd\n",
    "content = pd.read_csv(filename, encoding = 'utf_8')"
   ]
  },
  {
   "cell_type": "code",
   "execution_count": 342,
   "metadata": {},
   "outputs": [
    {
     "data": {
      "text/html": [
       "<div>\n",
       "<style scoped>\n",
       "    .dataframe tbody tr th:only-of-type {\n",
       "        vertical-align: middle;\n",
       "    }\n",
       "\n",
       "    .dataframe tbody tr th {\n",
       "        vertical-align: top;\n",
       "    }\n",
       "\n",
       "    .dataframe thead th {\n",
       "        text-align: right;\n",
       "    }\n",
       "</style>\n",
       "<table border=\"1\" class=\"dataframe\">\n",
       "  <thead>\n",
       "    <tr style=\"text-align: right;\">\n",
       "      <th></th>\n",
       "      <th>id</th>\n",
       "      <th>link</th>\n",
       "      <th>name</th>\n",
       "      <th>comment</th>\n",
       "      <th>star</th>\n",
       "    </tr>\n",
       "  </thead>\n",
       "  <tbody>\n",
       "    <tr>\n",
       "      <th>0</th>\n",
       "      <td>1</td>\n",
       "      <td>https://movie.douban.com/subject/26363254/</td>\n",
       "      <td>战狼2</td>\n",
       "      <td>吴京意淫到了脑残的地步，看了恶心想吐</td>\n",
       "      <td>1</td>\n",
       "    </tr>\n",
       "    <tr>\n",
       "      <th>1</th>\n",
       "      <td>2</td>\n",
       "      <td>https://movie.douban.com/subject/26363254/</td>\n",
       "      <td>战狼2</td>\n",
       "      <td>首映礼看的。太恐怖了这个电影，不讲道理的，完全就是吴京在实现他这个小粉红的英雄梦。各种装备轮...</td>\n",
       "      <td>2</td>\n",
       "    </tr>\n",
       "    <tr>\n",
       "      <th>2</th>\n",
       "      <td>3</td>\n",
       "      <td>https://movie.douban.com/subject/26363254/</td>\n",
       "      <td>战狼2</td>\n",
       "      <td>吴京的炒作水平不输冯小刚，但小刚至少不会用主旋律来炒作…吴京让人看了不舒服，为了主旋律而主旋...</td>\n",
       "      <td>2</td>\n",
       "    </tr>\n",
       "    <tr>\n",
       "      <th>3</th>\n",
       "      <td>4</td>\n",
       "      <td>https://movie.douban.com/subject/26363254/</td>\n",
       "      <td>战狼2</td>\n",
       "      <td>凭良心说，好看到不像《战狼1》的续集，完虐《湄公河行动》。</td>\n",
       "      <td>4</td>\n",
       "    </tr>\n",
       "    <tr>\n",
       "      <th>4</th>\n",
       "      <td>5</td>\n",
       "      <td>https://movie.douban.com/subject/26363254/</td>\n",
       "      <td>战狼2</td>\n",
       "      <td>中二得很</td>\n",
       "      <td>1</td>\n",
       "    </tr>\n",
       "  </tbody>\n",
       "</table>\n",
       "</div>"
      ],
      "text/plain": [
       "  id                                        link name  \\\n",
       "0  1  https://movie.douban.com/subject/26363254/  战狼2   \n",
       "1  2  https://movie.douban.com/subject/26363254/  战狼2   \n",
       "2  3  https://movie.douban.com/subject/26363254/  战狼2   \n",
       "3  4  https://movie.douban.com/subject/26363254/  战狼2   \n",
       "4  5  https://movie.douban.com/subject/26363254/  战狼2   \n",
       "\n",
       "                                             comment star  \n",
       "0                                 吴京意淫到了脑残的地步，看了恶心想吐    1  \n",
       "1  首映礼看的。太恐怖了这个电影，不讲道理的，完全就是吴京在实现他这个小粉红的英雄梦。各种装备轮...    2  \n",
       "2  吴京的炒作水平不输冯小刚，但小刚至少不会用主旋律来炒作…吴京让人看了不舒服，为了主旋律而主旋...    2  \n",
       "3                      凭良心说，好看到不像《战狼1》的续集，完虐《湄公河行动》。    4  \n",
       "4                                               中二得很    1  "
      ]
     },
     "execution_count": 342,
     "metadata": {},
     "output_type": "execute_result"
    }
   ],
   "source": [
    "content.head()\n"
   ]
  },
  {
   "cell_type": "code",
   "execution_count": 3,
   "metadata": {},
   "outputs": [
    {
     "data": {
      "text/plain": [
       "261497"
      ]
     },
     "execution_count": 3,
     "metadata": {},
     "output_type": "execute_result"
    }
   ],
   "source": [
    "articles = content['comment'].tolist()\n",
    "len(articles)"
   ]
  },
  {
   "cell_type": "code",
   "execution_count": 4,
   "metadata": {},
   "outputs": [],
   "source": [
    "import re\n",
    "import jieba\n",
    "def token(string):\n",
    "    # we will learn the regular expression next course.\n",
    "    return re.findall('\\w+', string)\n",
    "\n",
    "def cut(string): return list(jieba.cut(string))"
   ]
  },
  {
   "cell_type": "code",
   "execution_count": 5,
   "metadata": {},
   "outputs": [],
   "source": [
    "articles_clean = [''.join(token(str(a)))for a in articles]"
   ]
  },
  {
   "cell_type": "code",
   "execution_count": 6,
   "metadata": {},
   "outputs": [
    {
     "data": {
      "text/plain": [
       "['吴京意淫到了脑残的地步看了恶心想吐',\n",
       " '首映礼看的太恐怖了这个电影不讲道理的完全就是吴京在实现他这个小粉红的英雄梦各种装备轮番上场视物理逻辑于不顾不得不说有钱真好随意胡闹',\n",
       " '吴京的炒作水平不输冯小刚但小刚至少不会用主旋律来炒作吴京让人看了不舒服为了主旋律而主旋律为了煽情而煽情让人觉得他是个大做作大谎言家729更新片子整体不如湄公河行动1整体不够流畅编剧有毒台词尴尬2刻意做作的主旋律煽情显得如此不合时宜而又多余',\n",
       " '凭良心说好看到不像战狼1的续集完虐湄公河行动',\n",
       " '中二得很',\n",
       " '犯我中华者虽远必诛吴京比这句话还要意淫一百倍',\n",
       " '脑子是个好东西希望编剧们都能有',\n",
       " '三星半实打实的7分第一集在爱国主旋律内部做着各种置换与较劲但第二集才真正显露吴京的野心他终于抛弃李忠志了新增外来班底让硬件实力有机会和国际接轨开篇水下长镜头和诸如铁丝网拦截RPG弹头的细节设计都让国产动作片重新封顶在理念上它甚至做到绣春刀2最想做到的那部分',\n",
       " '开篇长镜头惊险大气引人入胜结合了水平不俗的快剪下实打实的真刀真枪让人不禁热血沸腾特别弹簧床架挡炸弹空手接碎玻璃弹匣割喉等帅得飞起就算前半段铺垫节奏散漫主角光环开太大等也不怕作为一个中国人两个小时弥漫着中国强大得不可侵犯的氛围还是让那颗民族自豪心砰砰砰跳个不停',\n",
       " '15100吴京的冷峰在这部里即像成龙又像杰森斯坦森但体制外的同类型电影主角总是代表个人无能的政府需要求助于这些英雄才能解决难题体现的是个人的价值所以主旋律照抄这种模式实际上是有问题的我们以前嘲笑个人英雄主义却没想到捆绑爱国主义的全能战士更加难以下咽',\n",
       " '犯我中华者虽远必诛是有多无脑才信这句话',\n",
       " '这部戏让人看的热血沸腾对吴京路转粉最后的彩蛋让我们没有理由不期待下一部',\n",
       " '假嗨特别恶心的电影',\n",
       " '有几处情节设置过于尴尬彰显国家自豪感的部分稍显突兀',\n",
       " '就是一部爽片打戏挺燃但是故事一般达康书记不合适这个角色赵东来倒是很合适张瀚太太太违和了分分钟穿越回偶像剧',\n",
       " '赵东来达康书记我们接到在非洲卧底的冷锋报告丁义珍现在非洲我们请求抓捕李达康东来这件事先不要声张特别是别让省厅知道就你和我一起去非洲加上冷锋同志三人逮捕丁义珍这次行就叫战狼2吧',\n",
       " '下一部拍喜剧吧整个片子真感觉挺搞笑的',\n",
       " '战狼2里吴京这么能打他打得过徐晓冬么',\n",
       " '心往一处想劲往一处使就能实现我们的梦想看吧比第一部好太多了谢谢美队的动作指导',\n",
       " '这都能火是我没见识',\n",
       " '开头的水下长对决戏可算华语电影的顶尖存在驱逐舰导弹和坦克在商业片里这么狂用也是了得镜头运用和笑点插入都很好莱坞爆米花不功不过从头打到尾是真拼虽然镜头也有略乱时因为没啥期望值所以被吴京的野心吓了一跳吴刚于谦和丁海峰老三位像炖烂熟的牛筋嚼着就舒服',\n",
       " '很用心啊吴京导演小看你了确实在导演上下功夫了拉片子了知道借鉴是好的至于大家比较反感的小粉红情绪我觉得那些桥段都是主旋律必备啊是稍微有一点过但还可以接受最好的地方是吴京节奏掌握得很好知道张弛有度这点很难得',\n",
       " '犯我中华者虽远必诛这句话一直在我脑子里回响',\n",
       " '片头海里那场动作戏看完就呆不下去了太假太做作提前离场',\n",
       " '好看这部戏让人看的热血沸腾打戏挺燃的吴京演技棒呆了',\n",
       " '符合有钱了续集反而拍更差这一放之四海而皆准的规律场面越做越大然而伴随着各种动作场面和特效场面的升级这一部的叙事反而变得非常凌乱格局颇大想拍成黑鹰坠落结果撑死最多也只是官方主旋律版的敢死队吴京确实有野心但论自我角色定位能力远不如同是动作演员出身的甄子丹',\n",
       " '说喜欢这部片子的人不是装傻就是真傻要不是真的没有别的可看肯定是不会选这部的直男癌到令人发指所有剧情走向也完全是九十年代那套照搬审美这件事儿真不是一时半会儿能培养出来的',\n",
       " '整部电影延续1的风格热血场面比1来的要大打戏动作不错吴京挺适合演军人的电影之前的中国梦片段他都念的劲儿劲儿的整体来说还不错不过张翰太违和了一出来就一股雷阵雨的画风',\n",
       " '目瞪狗呆太瘠薄好看了中国人牛b就是硬道理隔壁建军大爷都没你们爱国',\n",
       " '战狼2的动作场景和战斗装备全线升级热血的打斗动作从头打到尾战狼2游走在电影审查红线的边界和政治安全的缝隙是部延续了第一部极具煽动爱国情绪的国产动作大片如此制作精良的影片还请多来一点',\n",
       " '电影用的胶卷挺差的故事过度也差地方部队还没太多展示就死去反正各种问题但就是能吸引人看下去就冲这为什么要这么鄙视敢想敢去开拓的人不允许他们再去拍直到能有更好的人拍出更棒的更出彩的电影来呢',\n",
       " '火爆的场面拍出了好莱坞大片的感觉本片必将燃爆暑期',\n",
       " '吴京厉害了身为武打演员能拍到这么高标准的大场面的枪战戏为你点赞热血男儿荷尔蒙爆发',\n",
       " '能给0星么好恶心啊',\n",
       " '血战钢锯岭中国人也会觉得好看因为它歌颂的宗教情怀是超越政权的但当你只想歌颂一个政权时很明显就低了一个层次甚至充满了现实乃至投机的考量高下立见',\n",
       " '请问吴京脑残弹簧床能挡火箭炮吗',\n",
       " '上一部是傲气雄鹰这一部是第一滴血4吴京算是国内导演对类型片感觉比较准的作为动作片钱都花在有效地方整体火爆流畅有大片气魄创作上也足够真诚人物设计也都不错连张翰都很可爱了如果吴京不像当年甄子丹那样一时膨胀在银幕上独占聚光灯肯定可以走得更远',\n",
       " '扪心自问这种电影真没法评价全片靠动作戏撑完文戏都是扯淡女主角毫无存在的必要故事不需要逻辑只要主角开挂但牛逼之处在于全片都透露着极强烈的爱国主义光环和意识形态枷锁在祖国面前一切反动派都是纸老虎所以战狼一个人开挂团灭一个连都是合情合理的动作戏还不错挺用心两星鼓励',\n",
       " '扪心自问这种电影真没法评价全片靠动作戏撑完文戏都是扯淡女主角毫无存在的必要故事不需要逻辑只要主角开挂但牛逼之处在于全片都透露着极强烈的爱国主义光环和意识形态枷锁在祖国面前一切反动派都是纸老虎所以战狼一个人开挂团灭一个连都是合情合理的动作戏还不错挺用心两星鼓励',\n",
       " '两星给打戏其他一般般没啥看点还有点尴尬',\n",
       " '太尴尬了手接炸弹哈哈哈从张翰出来之后我就想炸了他',\n",
       " '翻了一下我给第一部的评价是四星当时觉得挺燃的这部其实在完成度上更接近好莱坞的制作了每个步骤每个人物的走向都很顺滑没有任何出人意料的地方只给三星是因为看看最近现实世界的一切抱歉我在影院里燃不起来只是觉得一切都很魔幻当然开头的强拆是最有现实感的一幕了',\n",
       " '太喜欢战狼2开场6分钟长镜头的水下搏斗戏了从来没有在其它任何一部电影里看到过因为拍摄难度真的不一般同时还对演员有各种技能方面的要求看完片子回来搜了下被吴京会游泳潜水滑雪开飞机开坦克射击等各项技能还特意去特种部队当过18个月兵真的很佩服这样的电影人',\n",
       " '3星半1电影结束有掌声出现近期少见2一粒爱国主义大补丸有人吃的开心有人觉得补大了3从头打到尾从白打到黑4从片头字幕到影片细节完全展现了吴京作为一个超级直男的糙和猛主角光环媲美终结者5达康书记无亮点张翰变谐星63D7导演的掌控能力逼近Hold不住的边缘',\n",
       " '打戏非常带感燃爆了拳拳到肉看得超爽',\n",
       " '吴京确实很聪明很鸡贼在一面大旗下呈现了一出重工业娱乐电影他一直调控着说教和娱乐的比例娱乐多了尺度不被允许说教多了大众不接纳比例把握非常微妙这其中还是有一些奇侠化的内容比如用玻璃碴子当飞镖杀敌一类只不过被遮盖掉了老爹演过美剧搏击王国力荐那部美剧',\n",
       " '作为主旋律影片为啥用奇异恩典配乐画内镜头还是中国军人',\n",
       " '男生看这部电影的话应该会很喜欢因为很刺激肾上腺素如果是女生冷锋对龙小云的感情也会十分打动你真的',\n",
       " '无脑动作片模仿许多好莱坞大场面再想怎么玩怎么玩一股脑堆槽点多到炸几位主角血厚到科幻级别吴京重复演满血红血中毒极速回血爆种打通全场确实很拼但片子太过投机取巧炸穿银幕连迈克尔贝都不受待见了国片还前仆后继炸不停故事不好看堆再多大场面大爆炸假high瞎燃也没用510',\n",
       " '吴京这种女人就缺我这样的男人征服心往一处想劲往一处使就能实现吴京直男癌的中国梦',\n",
       " '美国大片就能意淫国产的就不行美国的就打不死全都跳飞机跟跳墙一样中国就不行',\n",
       " '好莱坞总是美国总是拯救世界国产片就是中国梦想拯救非洲',\n",
       " '以现在的中印局势来对比这部电影假想的内容还真是挺讽刺的哈哈哈',\n",
       " '谄媚投机到恶心',\n",
       " '作为军旅题材给四星我觉得不过分质感燃到爆炸',\n",
       " '燃大场面真的不输国外大片不尴尬吴京打戏很精彩水下搏斗看着也很有力必须安利一下张翰这角色简直就是个彩蛋啊承包所有笑点为他量身定做的哈哈哈彭于晏可演不来是真的好看',\n",
       " '战狼2的制作明显比第一部升级了不少坦克漂移无人机突袭直升机坠露水下肉搏军舰导弹发射场面和动作再加上非洲叛乱国际化的视角完全是好莱坞大片的标配吴京饰演的冷锋更加深入人心如此搏命的精神在当下华语动作电影算是少见了期待第三部',\n",
       " '好燃啊好看表白吴京和达康书记',\n",
       " '燃大场面真的不输国外大片不尴尬吴京打戏很精彩水下搏斗看着也很有力必须安利一下张翰这角色简直就是个彩蛋啊承包所有笑点为他量身定做的哈哈哈彭于晏可演不来是真的好看',\n",
       " '战狼2的制作明显比第一部升级了不少坦克漂移无人机突袭直升机坠露水下肉搏军舰导弹发射场面和动作再加上非洲叛乱国际化的视角完全是好莱坞大片的标配吴京饰演的冷锋更加深入人心如此搏命的精神在当下华语动作电影算是少见了期待第三部',\n",
       " '好燃啊好看表白吴京和达康书记',\n",
       " '典型美国大片的方式每次都能猜对剧情没劲诶我就想问王牌特工就那么点杀人的镜头还经过艺术处理都直接删了战狼2这种血腥屠杀的镜头赤裸裸的大段大段的是怎么过的政治正确就有庇衣了',\n",
       " '意料之中的精彩意料之外的惊喜属于我们的英雄展现狼性的军魂',\n",
       " '几个网红拉出来弹弹琴你们就说燃了彰显我大国气象荷尔蒙满屏这TM才叫燃这部电影告诉我们中国人也是可以拯救世界的',\n",
       " '吴迪塞尔如入无人之境7亿大陆直男在这一刻集体勃起心往一处想劲往一处使你就能离开影厅不是个屌丝了',\n",
       " '同样是主旋律片子比电影开始前的我的中国梦要屌一万倍',\n",
       " '吴京这一次完全就是用超级英雄的标准来打造角色美式英雄主义与主旋律的违和是不可逆转的缺点各种笑料也一定程度地破坏了节奏感斥巨资炮制的大场面有所体验动作场面的流畅自然也比得上好莱坞水准但满到溢出却又影响了观感有着明显的优缺点但却会是受一般观众喜爱的院线电影两星半',\n",
       " '3d扣分',\n",
       " '和第一部同样精彩看完之后我热血澎拜啊',\n",
       " '纯粹拍的很难看啊',\n",
       " '集体癔症',\n",
       " '这个系列从1开始就跟吃了壮阳药似的',\n",
       " '张翰脸比女主白太多了请问用了什么护肤品',\n",
       " '客观的说七分虽然情节逻辑有各种经不起推敲的细节但总体完成度很高虽然反派有点无脑脸谱化但配角形象还算丰满尤其张瀚的富二代形象居然不招人讨厌有笑点有泪点是部用心的片子瑕不掩瑜值得鼓励',\n",
       " '在吴京的个人英雄幻想下连主旋律都沦为附庸了我tm还能说什么主角已经牛逼到突破逻辑的地步全天下超级无敌牛逼就是你了好啦好啦我都知道',\n",
       " '1看看人家装逼装得多专业2由于全国发布高温警报主角只好去非洲避暑了3Tundu我不要去中国中国太他妈热了我会被晒黑的4张翰在本片饰演亦凡整个太平洋都是他承包的鱼塘5达康书记东来局长都是幌子实际上反派是美队对冷锋的考验下集他将加入复联一起打灭霸',\n",
       " '三星半与首部一脉相承但脱离了军旅题材的限制变成了孤胆英雄动作片与第一滴血系列是一样的故事不新鲜但场面更大动作部分在技巧火爆之间切换整体非常燃片长有些长能看出拍摄时受限颇多有的镜头一看就是硬性指标但这样的片对拓展华语类型片有好处还是多多益善',\n",
       " '已三刷不明白为什么会有人说中二和吴京意淫这种类型的电影肯定要有一个英雄人物带动情节的发展真的好看全场无尿点谁会希望有战乱一些人或群体为了自己的私人利益发动战争但这苦的可是手无寸铁之力的民众祈求一个永远也实现不了的愿望世界和平黑子跪久了都站不起来了5分力荐',\n",
       " '张翰脸比女主白太多了请问用了什么护肤品',\n",
       " '客观的说七分虽然情节逻辑有各种经不起推敲的细节但总体完成度很高虽然反派有点无脑脸谱化但配角形象还算丰满尤其张瀚的富二代形象居然不招人讨厌有笑点有泪点是部用心的片子瑕不掩瑜值得鼓励',\n",
       " '在吴京的个人英雄幻想下连主旋律都沦为附庸了我tm还能说什么主角已经牛逼到突破逻辑的地步全天下超级无敌牛逼就是你了好啦好啦我都知道',\n",
       " '1看看人家装逼装得多专业2由于全国发布高温警报主角只好去非洲避暑了3Tundu我不要去中国中国太他妈热了我会被晒黑的4张翰在本片饰演亦凡整个太平洋都是他承包的鱼塘5达康书记东来局长都是幌子实际上反派是美队对冷锋的考验下集他将加入复联一起打灭霸',\n",
       " '三星半与首部一脉相承但脱离了军旅题材的限制变成了孤胆英雄动作片与第一滴血系列是一样的故事不新鲜但场面更大动作部分在技巧火爆之间切换整体非常燃片长有些长能看出拍摄时受限颇多有的镜头一看就是硬性指标但这样的片对拓展华语类型片有好处还是多多益善',\n",
       " '已三刷不明白为什么会有人说中二和吴京意淫这种类型的电影肯定要有一个英雄人物带动情节的发展真的好看全场无尿点谁会希望有战乱一些人或群体为了自己的私人利益发动战争但这苦的可是手无寸铁之力的民众祈求一个永远也实现不了的愿望世界和平黑子跪久了都站不起来了5分力荐',\n",
       " '样板戏走向全球',\n",
       " '捧高美国队长贬低战狼双重标准不要玩的太溜好莱坞玩爱美国就是高大上国内玩爱国就是假大空真不懂你们这些没有膝盖的人',\n",
       " '二十年前当我还是个懵懂的小孩子看到这样的故事和镜头我会被感动的哭鼻子如今二十年过去了你却还拿这样的故事逻辑和镜头给我看我只能尴尬的笑',\n",
       " '战狼2可以说用军舰坦克撞开了国产电影重工业的大门让观众了解到国产电影也可以像好莱坞大片一样可以有自己的超级英雄',\n",
       " '说剧情有bug我承认但你看的燃不燃high不high动作打得过瘾不过瘾看得心潮澎湃没有激动不国产商业动作片能拍到这个水准已经值得表扬了不给鼓励还在那挑刺呵呵',\n",
       " '这一星给开场拆房子的那场戏太不符合社会主义核心价值观了',\n",
       " '电影院一个人就买了四张票不打折请全家看心疼我的小钱钱还好家长们的反应是好的把吴京猛夸了一通中国式的动作大片并不逊色好莱坞只要他们满意我也就心满意足了我珍惜一家人和和气气的团聚时刻卢靖姗真漂亮干练明朗的健康美吴京好好拍第三部继续约啊',\n",
       " '听说过夜郎自大吗我第一次知道中国人这么牛逼中国部队所向披靡连特么坦克都能给你开漂移整部电影都是吴京一个人在意淫意淫真可怕中国维和单凭一个视频能越过联合国长驱直入到别国领土进行作战你当Africa是你家后院么意淫强国我身为天朝子民相当之荣幸扬我国威震我中华',\n",
       " '我跟你们讲吴京当年在电视上大吹牛逼说自己在杀破狼里和甄子丹真打多厉害多牛逼结果花絮里明明白白地展现了甄如何设计全套动作从头到尾手把手地教吴京',\n",
       " '中國狼不咬中國人www',\n",
       " '冷锋像是一个符号他代表着千千万万守护我们的军人国强则民安生活在这个没有战争的国度我们真的算是非常幸福每一个军人都值得我们尊敬这个强大的祖国也值得我们热爱如同影片的主旨中国护照不能带你去任何一个国家但能从任何一个地方把你平安带回家',\n",
       " '非常难看也不知道导演哪儿来的自信',\n",
       " '一部政治宣传片中国也就在非洲还有点脸面了给宏大的战争场面和吴京卖力的打斗五星剧情减一星政治倾向剪一星综合三星',\n",
       " '诚意满满全程无尿点吴京非常帅剧情比战狼1好看多了',\n",
       " '23点45分开始1点48分结束我看了12次手机影厅的天花板上有8条线组合成三角形装饰18个音响在棚顶前12个并列排放后面6个33一组一共24个探照灯第12个旁边有个摄像头另外中国护照上没有那句话',\n",
       " '有一场坦克戏简直令人浮想连连啊吴京真的不是故意的嘛又是压人压成肉泥的镜头又是吴京站在坦克正前面稍有常识的人都会看出如果敌方的铁骑继续前进然而吴京这个螳臂当车的歹徒真的阻挡住了']"
      ]
     },
     "execution_count": 6,
     "metadata": {},
     "output_type": "execute_result"
    }
   ],
   "source": [
    "articles_clean[:100]"
   ]
  },
  {
   "cell_type": "code",
   "execution_count": 7,
   "metadata": {},
   "outputs": [
    {
     "name": "stderr",
     "output_type": "stream",
     "text": [
      "Building prefix dict from the default dictionary ...\n",
      "Loading model from cache C:\\Users\\jack\\AppData\\Local\\Temp\\jieba.cache\n"
     ]
    },
    {
     "name": "stdout",
     "output_type": "stream",
     "text": [
      "0\n"
     ]
    },
    {
     "name": "stderr",
     "output_type": "stream",
     "text": [
      "Loading model cost 0.951 seconds.\n",
      "Prefix dict has been built succesfully.\n"
     ]
    },
    {
     "name": "stdout",
     "output_type": "stream",
     "text": [
      "1000\n",
      "2000\n",
      "3000\n",
      "4000\n",
      "5000\n",
      "6000\n",
      "7000\n",
      "8000\n",
      "9000\n",
      "10000\n",
      "11000\n",
      "12000\n",
      "13000\n",
      "14000\n",
      "15000\n",
      "16000\n",
      "17000\n",
      "18000\n",
      "19000\n",
      "20000\n",
      "21000\n",
      "22000\n",
      "23000\n",
      "24000\n",
      "25000\n",
      "26000\n",
      "27000\n",
      "28000\n",
      "29000\n",
      "30000\n",
      "31000\n",
      "32000\n",
      "33000\n",
      "34000\n",
      "35000\n",
      "36000\n",
      "37000\n",
      "38000\n",
      "39000\n",
      "40000\n",
      "41000\n",
      "42000\n",
      "43000\n",
      "44000\n",
      "45000\n",
      "46000\n",
      "47000\n",
      "48000\n",
      "49000\n",
      "50000\n",
      "51000\n",
      "52000\n",
      "53000\n",
      "54000\n",
      "55000\n",
      "56000\n",
      "57000\n",
      "58000\n",
      "59000\n",
      "60000\n",
      "61000\n",
      "62000\n",
      "63000\n",
      "64000\n",
      "65000\n",
      "66000\n",
      "67000\n",
      "68000\n",
      "69000\n",
      "70000\n",
      "71000\n",
      "72000\n",
      "73000\n",
      "74000\n",
      "75000\n",
      "76000\n",
      "77000\n",
      "78000\n",
      "79000\n",
      "80000\n",
      "81000\n",
      "82000\n",
      "83000\n",
      "84000\n",
      "85000\n",
      "86000\n",
      "87000\n",
      "88000\n",
      "89000\n",
      "90000\n",
      "91000\n",
      "92000\n",
      "93000\n",
      "94000\n",
      "95000\n",
      "96000\n",
      "97000\n",
      "98000\n",
      "99000\n",
      "100000\n",
      "101000\n",
      "102000\n",
      "103000\n",
      "104000\n",
      "105000\n",
      "106000\n",
      "107000\n",
      "108000\n",
      "109000\n",
      "110000\n",
      "111000\n",
      "112000\n",
      "113000\n",
      "114000\n",
      "115000\n",
      "116000\n",
      "117000\n",
      "118000\n",
      "119000\n",
      "120000\n",
      "121000\n",
      "122000\n",
      "123000\n",
      "124000\n",
      "125000\n",
      "126000\n",
      "127000\n",
      "128000\n",
      "129000\n",
      "130000\n",
      "131000\n",
      "132000\n",
      "133000\n",
      "134000\n",
      "135000\n",
      "136000\n",
      "137000\n",
      "138000\n",
      "139000\n",
      "140000\n",
      "141000\n",
      "142000\n",
      "143000\n",
      "144000\n",
      "145000\n",
      "146000\n",
      "147000\n",
      "148000\n",
      "149000\n",
      "150000\n",
      "151000\n",
      "152000\n",
      "153000\n",
      "154000\n",
      "155000\n",
      "156000\n",
      "157000\n",
      "158000\n",
      "159000\n",
      "160000\n",
      "161000\n",
      "162000\n",
      "163000\n",
      "164000\n",
      "165000\n",
      "166000\n",
      "167000\n",
      "168000\n",
      "169000\n",
      "170000\n",
      "171000\n",
      "172000\n",
      "173000\n",
      "174000\n",
      "175000\n",
      "176000\n",
      "177000\n",
      "178000\n",
      "179000\n",
      "180000\n",
      "181000\n",
      "182000\n",
      "183000\n",
      "184000\n",
      "185000\n",
      "186000\n",
      "187000\n",
      "188000\n",
      "189000\n",
      "190000\n",
      "191000\n",
      "192000\n",
      "193000\n",
      "194000\n",
      "195000\n",
      "196000\n",
      "197000\n",
      "198000\n",
      "199000\n",
      "200000\n",
      "201000\n",
      "202000\n",
      "203000\n",
      "204000\n",
      "205000\n",
      "206000\n",
      "207000\n",
      "208000\n",
      "209000\n",
      "210000\n",
      "211000\n",
      "212000\n",
      "213000\n",
      "214000\n",
      "215000\n",
      "216000\n",
      "217000\n",
      "218000\n",
      "219000\n",
      "220000\n",
      "221000\n",
      "222000\n",
      "223000\n",
      "224000\n",
      "225000\n",
      "226000\n",
      "227000\n",
      "228000\n",
      "229000\n",
      "230000\n",
      "231000\n",
      "232000\n",
      "233000\n",
      "234000\n",
      "235000\n",
      "236000\n",
      "237000\n",
      "238000\n",
      "239000\n",
      "240000\n",
      "241000\n",
      "242000\n",
      "243000\n",
      "244000\n",
      "245000\n",
      "246000\n",
      "247000\n",
      "248000\n",
      "249000\n",
      "250000\n",
      "251000\n",
      "252000\n",
      "253000\n",
      "254000\n",
      "255000\n",
      "256000\n",
      "257000\n",
      "258000\n",
      "259000\n",
      "260000\n",
      "261000\n"
     ]
    }
   ],
   "source": [
    "TOKEN = []\n",
    "for i,line in enumerate(articles_clean):\n",
    "    if i % 1000 ==0: print(i)\n",
    "    \n",
    "    TOKEN += cut(line.strip())\n",
    "        "
   ]
  },
  {
   "cell_type": "code",
   "execution_count": 10,
   "metadata": {},
   "outputs": [],
   "source": [
    "from collections import Counter\n",
    "words_count = Counter(TOKEN)\n",
    "# words_count.most_common(100)"
   ]
  },
  {
   "cell_type": "markdown",
   "metadata": {},
   "source": [
    "## show the change of the most common words' amount"
   ]
  },
  {
   "cell_type": "code",
   "execution_count": 11,
   "metadata": {},
   "outputs": [
    {
     "data": {
      "text/plain": [
       "[<matplotlib.lines.Line2D at 0x1bd2f804240>]"
      ]
     },
     "execution_count": 11,
     "metadata": {},
     "output_type": "execute_result"
    },
    {
     "data": {
      "image/png": "[encoded data removed]",
      "text/plain": [
       "<Figure size 432x288 with 1 Axes>"
      ]
     },
     "metadata": {},
     "output_type": "display_data"
    }
   ],
   "source": [
    "frequiences = [f for w, f in words_count.most_common(100)]\n",
    "x = [i for i in range(100)]\n",
    "%matplotlib inline\n",
    "import matplotlib.pyplot as plt\n",
    "plt.plot(x, frequiences)"
   ]
  },
  {
   "cell_type": "markdown",
   "metadata": {},
   "source": [
    "## then show the log curve"
   ]
  },
  {
   "cell_type": "code",
   "execution_count": 12,
   "metadata": {},
   "outputs": [
    {
     "data": {
      "text/plain": [
       "[<matplotlib.lines.Line2D at 0x1bd2f89a588>]"
      ]
     },
     "execution_count": 12,
     "metadata": {},
     "output_type": "execute_result"
    },
    {
     "data": {
      "image/png": "[encoded data removed]",
      "text/plain": [
       "<Figure size 432x288 with 1 Axes>"
      ]
     },
     "metadata": {},
     "output_type": "display_data"
    }
   ],
   "source": [
    "import numpy as np\n",
    "plt.plot(x, np.log(frequiences))"
   ]
  },
  {
   "cell_type": "code",
   "execution_count": 13,
   "metadata": {},
   "outputs": [],
   "source": [
    "def prob_1(word):\n",
    "    return words_count[word] / len(TOKEN)"
   ]
  },
  {
   "cell_type": "code",
   "execution_count": 14,
   "metadata": {},
   "outputs": [
    {
     "data": {
      "text/plain": [
       "0.001308372044443227"
      ]
     },
     "execution_count": 14,
     "metadata": {},
     "output_type": "execute_result"
    }
   ],
   "source": [
    "prob_1('我们')"
   ]
  },
  {
   "cell_type": "code",
   "execution_count": 15,
   "metadata": {},
   "outputs": [
    {
     "data": {
      "text/plain": [
       "['吴京', '意淫', '到', '了', '脑残', '的', '地步', '看', '了', '恶心']"
      ]
     },
     "execution_count": 15,
     "metadata": {},
     "output_type": "execute_result"
    }
   ],
   "source": [
    "TOKEN[:10]"
   ]
  },
  {
   "cell_type": "code",
   "execution_count": 16,
   "metadata": {},
   "outputs": [],
   "source": [
    "TOKEN = [str(t) for t in TOKEN] #为了构造出2gram作准备"
   ]
  },
  {
   "cell_type": "code",
   "execution_count": 17,
   "metadata": {},
   "outputs": [],
   "source": [
    "'''\n",
    "n-gram最大的问题就是稀疏问题（Sparsity）。例如，在bi-gram中，若词库中有20k个词，那么两两组合 \n",
    "就有近2亿个组合。其中的很多组合在语料库中都没有出现，根据极大似然估计得到的组合概率将会是0，从而整个句子的概率就会为0。\n",
    "最后的结果是，我们的模型只能计算零星的几个句子的概率，而大部分的句子算得的概率是0，这显然是不合理的。\n",
    "因此，我们要进行数据平滑（data Smoothing），数据平滑的目的有两个：一个是使所有的N-gram概率之和为1，使所有的n-gram概率都不为0。\n",
    "它的本质，是重新分配整个概率空间，使已经出现过的n-gram的概率降低，补充给未曾出现过的n-gram。\n",
    "\n",
    "'''\n",
    "TOKEN_2_GRAM = [''.join(TOKEN[i:i+2]) for i in range(len(TOKEN))]"
   ]
  },
  {
   "cell_type": "code",
   "execution_count": 18,
   "metadata": {},
   "outputs": [
    {
     "data": {
      "text/plain": [
       "['吴京意淫', '意淫到', '到了', '了脑残', '脑残的', '的地步', '地步看', '看了', '了恶心', '恶心想']"
      ]
     },
     "execution_count": 18,
     "metadata": {},
     "output_type": "execute_result"
    }
   ],
   "source": [
    "TOKEN_2_GRAM[:10]"
   ]
  },
  {
   "cell_type": "code",
   "execution_count": 19,
   "metadata": {},
   "outputs": [],
   "source": [
    "words_count_2 = Counter(TOKEN_2_GRAM)"
   ]
  },
  {
   "cell_type": "code",
   "execution_count": 33,
   "metadata": {},
   "outputs": [
    {
     "data": {
      "text/plain": [
       "Counter({'吴京意淫': 3,\n",
       "         '意淫到': 3,\n",
       "         '到了': 1120,\n",
       "         '了脑残': 5,\n",
       "         '脑残的': 40,\n",
       "         '的地步': 118,\n",
       "         '地步看': 3,\n",
       "         '看了': 4585,\n",
       "         '了恶心': 16,\n",
       "         '恶心想': 4,\n",
       "         '想吐': 99,\n",
       "         '吐首映礼': 1,\n",
       "         '首映礼看': 4,\n",
       "         '看的': 7106,\n",
       "         '的太': 610,\n",
       "         '太恐怖': 29,\n",
       "         '恐怖了': 26,\n",
       "         '了这个': 478,\n",
       "         '这个电影': 525,\n",
       "         '电影不讲道理': 1,\n",
       "         '不讲道理的': 6,\n",
       "         '的完全': 118,\n",
       "         '完全就是': 138,\n",
       "         '就是吴京': 2,\n",
       "         '吴京在': 4,\n",
       "         '在实现': 2,\n",
       "         '实现他': 2,\n",
       "         '他这个': 17,\n",
       "         '这个小': 39,\n",
       "         '小粉红': 5,\n",
       "         '粉红的': 1,\n",
       "         '的英雄': 185,\n",
       "         '英雄梦': 11,\n",
       "         '梦各种': 1,\n",
       "         '各种装备': 1,\n",
       "         '装备轮番': 1,\n",
       "         '轮番上场': 4,\n",
       "         '上场视': 1,\n",
       "         '视物理': 1,\n",
       "         '物理逻辑': 1,\n",
       "         '逻辑于': 1,\n",
       "         '于不顾': 6,\n",
       "         '不顾不得不': 1,\n",
       "         '不得不说': 259,\n",
       "         '说有钱': 1,\n",
       "         '有钱真': 6,\n",
       "         '真好': 482,\n",
       "         '好随意': 3,\n",
       "         '随意胡闹': 1,\n",
       "         '胡闹吴京': 1,\n",
       "         '吴京的': 50,\n",
       "         '的炒作': 9,\n",
       "         '炒作水平': 1,\n",
       "         '水平不输': 1,\n",
       "         '不输冯小刚': 1,\n",
       "         '冯小刚但小刚': 1,\n",
       "         '但小刚至少': 1,\n",
       "         '至少不会': 11,\n",
       "         '不会用': 10,\n",
       "         '用主旋律': 1,\n",
       "         '主旋律来': 2,\n",
       "         '来炒作': 1,\n",
       "         '炒作吴京': 1,\n",
       "         '吴京让': 1,\n",
       "         '让人': 5284,\n",
       "         '人看': 413,\n",
       "         '了不': 499,\n",
       "         '不舒服': 166,\n",
       "         '舒服为了': 1,\n",
       "         '为了主旋律': 3,\n",
       "         '主旋律而': 4,\n",
       "         '而主旋律': 1,\n",
       "         '主旋律为了': 1,\n",
       "         '为了煽情': 11,\n",
       "         '煽情而': 9,\n",
       "         '而煽情': 10,\n",
       "         '煽情让': 4,\n",
       "         '人觉得': 306,\n",
       "         '觉得他': 138,\n",
       "         '他是': 340,\n",
       "         '是个': 2030,\n",
       "         '个大': 89,\n",
       "         '大做作': 1,\n",
       "         '做作大': 1,\n",
       "         '大谎言': 1,\n",
       "         '谎言家': 1,\n",
       "         '家729': 1,\n",
       "         '729更新': 1,\n",
       "         '更新片子': 1,\n",
       "         '片子整体': 30,\n",
       "         '整体不如': 15,\n",
       "         '不如湄公河': 3,\n",
       "         '湄公河行动': 16,\n",
       "         '行动1': 1,\n",
       "         '1整体': 2,\n",
       "         '整体不够': 4,\n",
       "         '不够流畅': 19,\n",
       "         '流畅编剧': 1,\n",
       "         '编剧有毒': 2,\n",
       "         '有毒台词': 1,\n",
       "         '台词尴尬': 8,\n",
       "         '尴尬2': 1,\n",
       "         '2刻意': 1,\n",
       "         '刻意做作': 8,\n",
       "         '做作的': 128,\n",
       "         '的主旋律': 186,\n",
       "         '主旋律煽情': 4,\n",
       "         '煽情显得': 2,\n",
       "         '显得如此': 18,\n",
       "         '如此不合时宜': 2,\n",
       "         '不合时宜而': 2,\n",
       "         '而又': 222,\n",
       "         '又多余': 1,\n",
       "         '多余凭良心说': 1,\n",
       "         '凭良心说好': 1,\n",
       "         '好看到': 75,\n",
       "         '看到不像': 2,\n",
       "         '不像战狼': 1,\n",
       "         '战狼1': 2,\n",
       "         '1的': 75,\n",
       "         '的续集': 118,\n",
       "         '续集完虐': 1,\n",
       "         '完虐湄公河': 1,\n",
       "         '行动中二得': 1,\n",
       "         '中二得很': 1,\n",
       "         '很犯': 1,\n",
       "         '犯我': 17,\n",
       "         '我中华': 18,\n",
       "         '中华者': 12,\n",
       "         '者虽远必': 16,\n",
       "         '虽远必诛': 22,\n",
       "         '诛吴京': 1,\n",
       "         '吴京比': 1,\n",
       "         '比这句': 1,\n",
       "         '这句话': 121,\n",
       "         '话还要': 1,\n",
       "         '还要意淫': 1,\n",
       "         '意淫一百倍': 1,\n",
       "         '一百倍脑子': 1,\n",
       "         '脑子是': 13,\n",
       "         '个好': 245,\n",
       "         '好东西': 57,\n",
       "         '东西希望': 1,\n",
       "         '希望编剧': 4,\n",
       "         '编剧们': 17,\n",
       "         '们都': 176,\n",
       "         '都能': 809,\n",
       "         '能有': 251,\n",
       "         '有三星': 3,\n",
       "         '三星半': 855,\n",
       "         '半实打实': 1,\n",
       "         '实打实的': 23,\n",
       "         '的7': 20,\n",
       "         '7分': 153,\n",
       "         '分第一集': 1,\n",
       "         '第一集在': 2,\n",
       "         '在爱国': 3,\n",
       "         '爱国主旋律': 6,\n",
       "         '主旋律内部': 1,\n",
       "         '内部做': 1,\n",
       "         '做着': 44,\n",
       "         '着各种': 22,\n",
       "         '各种置换': 1,\n",
       "         '置换与': 1,\n",
       "         '与较劲': 2,\n",
       "         '较劲但': 1,\n",
       "         '但第二集': 1,\n",
       "         '第二集才': 1,\n",
       "         '才真正': 24,\n",
       "         '真正显露': 1,\n",
       "         '显露吴京': 1,\n",
       "         '的野心': 87,\n",
       "         '野心他': 2,\n",
       "         '他终于': 12,\n",
       "         '终于抛弃': 1,\n",
       "         '抛弃李忠志': 1,\n",
       "         '李忠志了': 1,\n",
       "         '了新增': 2,\n",
       "         '新增外来': 1,\n",
       "         '外来班底': 1,\n",
       "         '班底让': 1,\n",
       "         '让硬件': 1,\n",
       "         '硬件实力': 1,\n",
       "         '实力有': 3,\n",
       "         '有机会': 100,\n",
       "         '机会和': 5,\n",
       "         '和国际': 4,\n",
       "         '国际接轨': 1,\n",
       "         '接轨开篇': 1,\n",
       "         '开篇水下': 1,\n",
       "         '水下长镜头': 1,\n",
       "         '长镜头和': 29,\n",
       "         '和诸如': 1,\n",
       "         '诸如铁丝网': 1,\n",
       "         '铁丝网拦截': 1,\n",
       "         '拦截RPG': 1,\n",
       "         'RPG弹头': 1,\n",
       "         '弹头的': 2,\n",
       "         '的细节': 360,\n",
       "         '细节设计': 13,\n",
       "         '设计都': 29,\n",
       "         '都让': 237,\n",
       "         '让国产': 2,\n",
       "         '国产动作片': 3,\n",
       "         '动作片重新': 2,\n",
       "         '重新封顶': 1,\n",
       "         '封顶在': 1,\n",
       "         '在理念': 1,\n",
       "         '理念上': 1,\n",
       "         '上它': 21,\n",
       "         '它甚至': 9,\n",
       "         '甚至做到': 1,\n",
       "         '做到绣春刀': 1,\n",
       "         '绣春刀2': 6,\n",
       "         '2最': 6,\n",
       "         '最想做到': 1,\n",
       "         '想做到的': 2,\n",
       "         '的那': 809,\n",
       "         '那部分': 47,\n",
       "         '部分开篇': 1,\n",
       "         '开篇长镜头': 2,\n",
       "         '长镜头惊险': 1,\n",
       "         '惊险大气': 1,\n",
       "         '大气引人入胜': 1,\n",
       "         '引人入胜结合': 1,\n",
       "         '结合了': 20,\n",
       "         '了水平': 7,\n",
       "         '水平不俗': 1,\n",
       "         '不俗的': 19,\n",
       "         '的快': 51,\n",
       "         '快剪下': 1,\n",
       "         '剪下实打实': 1,\n",
       "         '的真刀真枪': 1,\n",
       "         '真刀真枪让': 1,\n",
       "         '人不禁': 22,\n",
       "         '不禁热血沸腾': 1,\n",
       "         '热血沸腾特别': 1,\n",
       "         '特别弹簧床': 1,\n",
       "         '弹簧床架': 1,\n",
       "         '架挡': 1,\n",
       "         '挡炸弹': 1,\n",
       "         '炸弹空手': 1,\n",
       "         '空手接': 4,\n",
       "         '接碎玻璃': 1,\n",
       "         '碎玻璃弹匣': 1,\n",
       "         '弹匣割喉': 1,\n",
       "         '割喉等': 1,\n",
       "         '等帅': 1,\n",
       "         '帅得': 10,\n",
       "         '得飞起': 4,\n",
       "         '飞起就算': 1,\n",
       "         '就算前半段': 1,\n",
       "         '前半段铺垫': 12,\n",
       "         '铺垫节奏': 2,\n",
       "         '节奏散漫': 1,\n",
       "         '散漫主角': 1,\n",
       "         '主角光环': 108,\n",
       "         '光环开太大': 1,\n",
       "         '开太大等': 1,\n",
       "         '等也': 5,\n",
       "         '也不怕': 11,\n",
       "         '不怕作为': 1,\n",
       "         '作为一个': 271,\n",
       "         '一个中国': 23,\n",
       "         '中国人': 397,\n",
       "         '人两个': 8,\n",
       "         '两个小时': 231,\n",
       "         '小时弥漫着': 1,\n",
       "         '弥漫着中国': 1,\n",
       "         '中国强大': 2,\n",
       "         '强大得': 2,\n",
       "         '得不可': 8,\n",
       "         '不可侵犯': 4,\n",
       "         '侵犯的': 4,\n",
       "         '的氛围': 161,\n",
       "         '氛围还是': 5,\n",
       "         '还是让': 129,\n",
       "         '让那颗': 1,\n",
       "         '那颗民族': 1,\n",
       "         '民族自豪': 2,\n",
       "         '自豪心': 1,\n",
       "         '心砰砰': 1,\n",
       "         '砰砰砰': 26,\n",
       "         '砰跳个': 1,\n",
       "         '跳个不停': 1,\n",
       "         '不停15100': 1,\n",
       "         '15100吴京': 1,\n",
       "         '的冷峰': 1,\n",
       "         '冷峰在': 1,\n",
       "         '在这部': 232,\n",
       "         '这部里': 44,\n",
       "         '里即': 2,\n",
       "         '即像': 2,\n",
       "         '像成龙': 8,\n",
       "         '成龙又': 3,\n",
       "         '又像杰': 1,\n",
       "         '像杰森斯坦': 4,\n",
       "         '森斯坦森但': 1,\n",
       "         '森但体制': 1,\n",
       "         '体制外': 3,\n",
       "         '外的': 52,\n",
       "         '的同': 29,\n",
       "         '同类型': 94,\n",
       "         '类型电影': 64,\n",
       "         '电影主角': 23,\n",
       "         '主角总是': 1,\n",
       "         '总是代表': 1,\n",
       "         '代表个人': 2,\n",
       "         '个人无能': 1,\n",
       "         '无能的': 27,\n",
       "         '的政府': 19,\n",
       "         '政府需要': 2,\n",
       "         '需要求助于': 1,\n",
       "         '求助于这些': 1,\n",
       "         '这些英雄': 3,\n",
       "         '英雄才能': 2,\n",
       "         '才能解决': 1,\n",
       "         '解决难题': 1,\n",
       "         '难题体现': 1,\n",
       "         '体现的': 33,\n",
       "         '的是': 4348,\n",
       "         '是个人': 42,\n",
       "         '个人的': 103,\n",
       "         '的价值': 102,\n",
       "         '价值所以': 2,\n",
       "         '所以主旋律': 1,\n",
       "         '主旋律照抄': 1,\n",
       "         '照抄这种': 1,\n",
       "         '这种模式': 5,\n",
       "         '模式实际上': 1,\n",
       "         '实际上是': 29,\n",
       "         '是有': 685,\n",
       "         '有问题': 237,\n",
       "         '问题的': 115,\n",
       "         '的我们': 221,\n",
       "         '我们以前': 1,\n",
       "         '以前嘲笑': 1,\n",
       "         '嘲笑个人': 1,\n",
       "         '个人英雄主义': 132,\n",
       "         '英雄主义却': 1,\n",
       "         '却没想到': 5,\n",
       "         '没想到捆绑': 1,\n",
       "         '捆绑爱国主义': 1,\n",
       "         '爱国主义的': 11,\n",
       "         '的全能': 3,\n",
       "         '全能战士': 1,\n",
       "         '战士更加': 1,\n",
       "         '更加难以': 2,\n",
       "         '难以下咽': 8,\n",
       "         '下咽犯': 1,\n",
       "         '诛是': 2,\n",
       "         '有多': 648,\n",
       "         '多无脑': 1,\n",
       "         '无脑才': 1,\n",
       "         '才信': 5,\n",
       "         '信这句': 1,\n",
       "         '话这部': 2,\n",
       "         '这部戏': 121,\n",
       "         '戏让': 34,\n",
       "         '的热血沸腾': 13,\n",
       "         '热血沸腾对': 1,\n",
       "         '对吴京路': 1,\n",
       "         '吴京路转粉': 1,\n",
       "         '转粉最后': 1,\n",
       "         '最后的': 1500,\n",
       "         '的彩蛋': 90,\n",
       "         '彩蛋让': 4,\n",
       "         '让我们': 265,\n",
       "         '我们没有': 25,\n",
       "         '没有理由': 36,\n",
       "         '理由不': 14,\n",
       "         '不期待': 8,\n",
       "         '期待下': 40,\n",
       "         '下一部': 127,\n",
       "         '一部假': 2,\n",
       "         '假嗨': 1,\n",
       "         '嗨特别': 1,\n",
       "         '特别恶心': 3,\n",
       "         '恶心的': 142,\n",
       "         '的电影': 8640,\n",
       "         '电影有': 214,\n",
       "         '有几处': 68,\n",
       "         '几处情节': 3,\n",
       "         '情节设置': 52,\n",
       "         '设置过于': 2,\n",
       "         '过于尴尬': 2,\n",
       "         '尴尬彰显': 1,\n",
       "         '彰显国家': 1,\n",
       "         '国家自豪感': 1,\n",
       "         '自豪感的': 1,\n",
       "         '的部分': 556,\n",
       "         '部分稍显': 5,\n",
       "         '稍显突兀': 4,\n",
       "         '突兀就是': 3,\n",
       "         '就是一部': 147,\n",
       "         '一部爽片': 1,\n",
       "         '爽片打戏': 1,\n",
       "         '打戏挺燃': 2,\n",
       "         '挺燃但是': 1,\n",
       "         '但是故事': 98,\n",
       "         '故事一般': 77,\n",
       "         '一般达康': 1,\n",
       "         '达康书记': 13,\n",
       "         '书记不': 1,\n",
       "         '不合适': 40,\n",
       "         '合适这个': 3,\n",
       "         '这个角色': 339,\n",
       "         '角色赵': 1,\n",
       "         '赵东来': 4,\n",
       "         '东来倒': 1,\n",
       "         '倒是': 1017,\n",
       "         '是很': 849,\n",
       "         '很合适': 21,\n",
       "         '合适张瀚': 1,\n",
       "         '张瀚太太': 1,\n",
       "         '太太太违': 1,\n",
       "         '太违和': 13,\n",
       "         '和了': 21,\n",
       "         '了分': 19,\n",
       "         '分分钟': 129,\n",
       "         '分钟穿越': 5,\n",
       "         '穿越回': 17,\n",
       "         '回偶像剧': 1,\n",
       "         '偶像剧赵': 1,\n",
       "         '东来达康': 3,\n",
       "         '书记我们': 3,\n",
       "         '我们接到': 3,\n",
       "         '接到在': 3,\n",
       "         '在非洲': 13,\n",
       "         '非洲卧底': 3,\n",
       "         '卧底的': 25,\n",
       "         '的冷锋': 5,\n",
       "         '冷锋报告': 3,\n",
       "         '报告丁义珍': 3,\n",
       "         '丁义珍现在': 3,\n",
       "         '现在非洲': 3,\n",
       "         '非洲我们': 3,\n",
       "         '我们请求': 3,\n",
       "         '请求抓捕': 3,\n",
       "         '抓捕李达康': 3,\n",
       "         '李达康东来': 3,\n",
       "         '东来这件': 3,\n",
       "         '这件事先': 3,\n",
       "         '事先不要': 3,\n",
       "         '不要声张': 3,\n",
       "         '声张特别': 3,\n",
       "         '特别是': 485,\n",
       "         '是别': 17,\n",
       "         '别让': 20,\n",
       "         '让省厅': 3,\n",
       "         '省厅知道': 3,\n",
       "         '知道就': 11,\n",
       "         '就你': 20,\n",
       "         '你和': 92,\n",
       "         '和我': 350,\n",
       "         '我一起': 33,\n",
       "         '一起去': 99,\n",
       "         '去非洲': 6,\n",
       "         '非洲加上': 3,\n",
       "         '加上冷锋': 3,\n",
       "         '冷锋同志': 3,\n",
       "         '同志三人': 3,\n",
       "         '三人逮捕': 3,\n",
       "         '逮捕丁义珍': 3,\n",
       "         '丁义珍这次': 3,\n",
       "         '这次行': 3,\n",
       "         '行就': 4,\n",
       "         '就叫': 79,\n",
       "         '叫战狼': 4,\n",
       "         '战狼2': 14,\n",
       "         '2吧': 4,\n",
       "         '吧下': 4,\n",
       "         '一部拍': 18,\n",
       "         '拍喜剧': 13,\n",
       "         '喜剧吧': 27,\n",
       "         '吧整个': 9,\n",
       "         '整个片子': 133,\n",
       "         '片子真': 18,\n",
       "         '真感觉': 2,\n",
       "         '感觉挺': 47,\n",
       "         '挺搞笑': 152,\n",
       "         '搞笑的': 477,\n",
       "         '的战狼': 1,\n",
       "         '2里': 15,\n",
       "         '里吴京': 2,\n",
       "         '吴京这么': 1,\n",
       "         '这么能': 8,\n",
       "         '能打': 89,\n",
       "         '打他': 12,\n",
       "         '他打': 17,\n",
       "         '打得': 164,\n",
       "         '得过': 35,\n",
       "         '过徐晓冬': 1,\n",
       "         '徐晓冬么': 1,\n",
       "         '么心往': 1,\n",
       "         '心往一处': 3,\n",
       "         '一处想劲往': 3,\n",
       "         '想劲往一处': 3,\n",
       "         '一处使': 3,\n",
       "         '使就': 2,\n",
       "         '就能': 636,\n",
       "         '能实现': 13,\n",
       "         '实现我们': 3,\n",
       "         '我们的': 620,\n",
       "         '的梦想': 277,\n",
       "         '梦想看吧': 1,\n",
       "         '看吧比': 2,\n",
       "         '比第一部': 373,\n",
       "         '第一部好太多': 10,\n",
       "         '好太多了': 38,\n",
       "         '了谢谢': 22,\n",
       "         '谢谢美队': 1,\n",
       "         '美队的': 4,\n",
       "         '的动作': 586,\n",
       "         '动作指导': 34,\n",
       "         '指导这': 1,\n",
       "         '这都': 167,\n",
       "         '能火': 7,\n",
       "         '火是': 1,\n",
       "         '是我': 2067,\n",
       "         '我没见识': 1,\n",
       "         '没见识开头': 1,\n",
       "         '开头的': 157,\n",
       "         '的水下': 5,\n",
       "         '水下长': 1,\n",
       "         '长对决': 1,\n",
       "         '对决戏可算': 1,\n",
       "         '戏可算华语': 1,\n",
       "         '华语电影': 84,\n",
       "         '电影的': 2551,\n",
       "         '的顶尖': 9,\n",
       "         '顶尖存在': 1,\n",
       "         '存在驱逐舰': 1,\n",
       "         '驱逐舰导弹': 1,\n",
       "         '导弹和': 1,\n",
       "         '和坦克': 6,\n",
       "         '坦克在': 2,\n",
       "         '在商业片': 9,\n",
       "         '商业片里': 9,\n",
       "         '里这么': 8,\n",
       "         '这么狂用': 1,\n",
       "         '狂用也': 1,\n",
       "         '也是': 4408,\n",
       "         '是了': 12,\n",
       "         '了得': 125,\n",
       "         '得镜头': 1,\n",
       "         '镜头运用': 54,\n",
       "         '运用和': 14,\n",
       "         '和笑': 30,\n",
       "         '笑点': 717,\n",
       "         '点插入': 1,\n",
       "         '插入都': 1,\n",
       "         '都很': 1727,\n",
       "         '很好莱坞': 11,\n",
       "         '好莱坞爆米花': 2,\n",
       "         '爆米花不功': 1,\n",
       "         '不功不过': 26,\n",
       "         '不过从头': 1,\n",
       "         '从头打到': 45,\n",
       "         '打到尾': 39,\n",
       "         '尾是': 4,\n",
       "         '是真': 249,\n",
       "         '真拼': 3,\n",
       "         '拼虽然': 2,\n",
       "         '虽然镜头': 4,\n",
       "         '镜头也': 61,\n",
       "         '也有略': 1,\n",
       "         '有略乱': 1,\n",
       "         '乱时': 1,\n",
       "         '时因为': 3,\n",
       "         '因为没': 18,\n",
       "         '没啥': 555,\n",
       "         '啥期望值': 1,\n",
       "         '期望值所以': 1,\n",
       "         '所以被': 5,\n",
       "         '被吴京': 2,\n",
       "         '野心吓了一跳': 1,\n",
       "         '吓了一跳吴刚': 1,\n",
       "         '吴刚于': 1,\n",
       "         '于谦和': 1,\n",
       "         '谦和丁海峰': 1,\n",
       "         '丁海峰老': 1,\n",
       "         '老三位': 1,\n",
       "         '三位像': 1,\n",
       "         '像炖': 1,\n",
       "         '炖烂熟': 1,\n",
       "         '烂熟的': 1,\n",
       "         '的牛筋': 1,\n",
       "         '牛筋嚼': 1,\n",
       "         '嚼着': 6,\n",
       "         '着就': 50,\n",
       "         '就舒服': 2,\n",
       "         '舒服很': 10,\n",
       "         '很用心': 105,\n",
       "         '用心啊': 3,\n",
       "         '啊吴京': 8,\n",
       "         '吴京导演': 2,\n",
       "         '导演小看': 1,\n",
       "         '小看你': 1,\n",
       "         '你了': 145,\n",
       "         '了确实': 35,\n",
       "         '确实在': 11,\n",
       "         '在导演': 58,\n",
       "         '导演上': 6,\n",
       "         '上下功夫': 8,\n",
       "         '下功夫了': 4,\n",
       "         '了拉': 10,\n",
       "         '拉片子': 3,\n",
       "         '片子了': 217,\n",
       "         '了知道': 28,\n",
       "         '知道借鉴': 1,\n",
       "         '借鉴是': 3,\n",
       "         '是好': 399,\n",
       "         '好的': 2458,\n",
       "         '的至于': 29,\n",
       "         '至于大家': 2,\n",
       "         '大家比较': 1,\n",
       "         '比较反感': 2,\n",
       "         '反感的': 14,\n",
       "         '的小': 1162,\n",
       "         '粉红情绪': 1,\n",
       "         '情绪我': 6,\n",
       "         '我觉得': 1927,\n",
       "         '觉得那些': 12,\n",
       "         '那些桥段': 4,\n",
       "         '桥段都': 49,\n",
       "         '都是': 6335,\n",
       "         '是主旋律': 28,\n",
       "         '主旋律必备': 1,\n",
       "         '必备啊': 1,\n",
       "         '啊是': 78,\n",
       "         '是稍微': 5,\n",
       "         '稍微有': 16,\n",
       "         '有一点': 135,\n",
       "         '一点过': 2,\n",
       "         '过但': 30,\n",
       "         '但还': 115,\n",
       "         '还可以': 1174,\n",
       "         '可以接受': 53,\n",
       "         '接受最好': 1,\n",
       "         '最好的': 1491,\n",
       "         '的地方': 1332,\n",
       "         '地方是': 88,\n",
       "         '是吴京': 6,\n",
       "         '吴京节奏': 1,\n",
       "         '节奏掌握': 23,\n",
       "         '掌握得': 17,\n",
       "         '得很': 715,\n",
       "         '很好': 2643,\n",
       "         '好知道': 1,\n",
       "         '知道张弛': 1,\n",
       "         '张弛有度': 56,\n",
       "         '有度这点': 1,\n",
       "         '这点很': 14,\n",
       "         '很难得': 73,\n",
       "         '难得犯': 1,\n",
       "         '诛这句': 1,\n",
       "         '话一直': 3,\n",
       "         '一直在': 504,\n",
       "         '在我': 435,\n",
       "         '我脑子里': 11,\n",
       "         '脑子里回响': 1,\n",
       "         '回响片头': 1,\n",
       "         '片头海里': 1,\n",
       "         '海里那场': 1,\n",
       "         '那场动作': 2,\n",
       "         '动作戏看': 8,\n",
       "         '戏看完': 6,\n",
       "         '完就': 138,\n",
       "         '就呆': 1,\n",
       "         '呆不': 1,\n",
       "         '不下去': 79,\n",
       "         '下去了': 111,\n",
       "         '了太假': 8,\n",
       "         '太假太': 5,\n",
       "         '太做作': 68,\n",
       "         '做作提前': 1,\n",
       "         '提前离场': 16,\n",
       "         '离场好看': 1,\n",
       "         '好看这部': 12,\n",
       "         '热血沸腾打戏': 1,\n",
       "         '挺燃的': 10,\n",
       "         '的吴京': 12,\n",
       "         '吴京演技': 2,\n",
       "         '演技棒呆': 1,\n",
       "         '棒呆了': 15,\n",
       "         '了符合': 2,\n",
       "         '符合有钱': 1,\n",
       "         '有钱了': 21,\n",
       "         '了续集': 16,\n",
       "         '续集反而': 1,\n",
       "         '反而拍': 1,\n",
       "         '拍更': 4,\n",
       "         '更差': 5,\n",
       "         '差这': 11,\n",
       "         '这一': 70,\n",
       "         '一放之四海而皆准': 1,\n",
       "         '放之四海而皆准的': 2,\n",
       "         '的规律': 8,\n",
       "         '规律场面': 1,\n",
       "         '场面越做越': 1,\n",
       "         '越做越大': 3,\n",
       "         '大然而': 3,\n",
       "         '然而伴随': 1,\n",
       "         '伴随着': 77,\n",
       "         '各种动作': 5,\n",
       "         '动作场面': 424,\n",
       "         '场面和': 49,\n",
       "         '和特效': 67,\n",
       "         '特效场面': 18,\n",
       "         '场面的': 80,\n",
       "         '的升级': 16,\n",
       "         '升级这': 1,\n",
       "         '这一部': 458,\n",
       "         '一部的': 117,\n",
       "         '的叙事': 423,\n",
       "         '叙事反而': 3,\n",
       "         '反而变得': 2,\n",
       "         '变得非常': 7,\n",
       "         '非常凌乱': 1,\n",
       "         '凌乱格局': 1,\n",
       "         '格局颇': 1,\n",
       "         '颇大想': 1,\n",
       "         '大想拍成': 1,\n",
       "         '拍成黑鹰坠落': 1,\n",
       "         '黑鹰坠落结果': 1,\n",
       "         '结果撑死': 1,\n",
       "         '撑死最多': 1,\n",
       "         '最多也': 5,\n",
       "         '也只是': 131,\n",
       "         '只是官方': 1,\n",
       "         '官方主旋律': 1,\n",
       "         '主旋律版': 1,\n",
       "         '版的': 581,\n",
       "         '的敢死队': 5,\n",
       "         '敢死队吴京': 1,\n",
       "         '吴京确实': 2,\n",
       "         '确实有': 82,\n",
       "         '有野心': 35,\n",
       "         '野心但论': 1,\n",
       "         '但论自我': 1,\n",
       "         '自我角色定位': 1,\n",
       "         '角色定位能力': 1,\n",
       "         '能力远': 1,\n",
       "         '远不': 2,\n",
       "         '不如同': 3,\n",
       "         '如同是': 4,\n",
       "         '是动作': 31,\n",
       "         '动作演员': 12,\n",
       "         '演员出身': 2,\n",
       "         '出身的': 54,\n",
       "         '的甄子丹': 14,\n",
       "         '甄子丹说': 2,\n",
       "         '说喜欢': 15,\n",
       "         '喜欢这部': 266,\n",
       "         '这部片子': 809,\n",
       "         '片子的': 555,\n",
       "         '的人': 4356,\n",
       "         '人不是': 51,\n",
       "         '不是装傻': 1,\n",
       "         '装傻就是': 1,\n",
       "         '就是真傻': 1,\n",
       "         '真傻要不是': 1,\n",
       "         '要不是真的': 1,\n",
       "         '真的没有': 87,\n",
       "         '没有别的': 29,\n",
       "         '别的可': 1,\n",
       "         '可看': 58,\n",
       "         '看肯定': 13,\n",
       "         '肯定是': 140,\n",
       "         '是不会': 108,\n",
       "         '不会选': 4,\n",
       "         '选这部': 5,\n",
       "         '这部的': 120,\n",
       "         '的直': 39,\n",
       "         '直男癌': 31,\n",
       "         '男癌到': 1,\n",
       "         '到令人发指': 24,\n",
       "         '令人发指所有': 1,\n",
       "         '所有剧情': 13,\n",
       "         '剧情走向': 44,\n",
       "         '走向也': 7,\n",
       "         '也完全': 60,\n",
       "         '完全是': 437,\n",
       "         '是九十年代': 4,\n",
       "         '九十年代那套': 1,\n",
       "         '那套照搬': 1,\n",
       "         '照搬审美': 1,\n",
       "         '审美这件': 1,\n",
       "         '这件事儿': 9,\n",
       "         '事儿真': 3,\n",
       "         '真不是': 160,\n",
       "         '不是一时半会儿': 1,\n",
       "         '一时半会儿能': 1,\n",
       "         '能培养': 1,\n",
       "         '培养出来': 3,\n",
       "         '出来的': 761,\n",
       "         '的整部': 24,\n",
       "         '整部电影': 483,\n",
       "         '电影延续': 4,\n",
       "         '延续1': 2,\n",
       "         '的风格': 717,\n",
       "         '风格热血': 1,\n",
       "         '热血场面': 3,\n",
       "         '场面比': 8,\n",
       "         '比1': 125,\n",
       "         '1来': 4,\n",
       "         '来的': 488,\n",
       "         '的要': 139,\n",
       "         '要大': 3,\n",
       "         '大打戏': 1,\n",
       "         '打戏动作': 2,\n",
       "         '动作不错': 11,\n",
       "         '不错吴京': 2,\n",
       "         '吴京挺': 1,\n",
       "         '挺适合': 49,\n",
       "         '适合演': 148,\n",
       "         '演军人': 3,\n",
       "         '军人的': 21,\n",
       "         '电影之前': 21,\n",
       "         '之前的': 297,\n",
       "         '的中国': 367,\n",
       "         '中国梦': 18,\n",
       "         '梦片段': 1,\n",
       "         '片段他': 1,\n",
       "         '他都': 32,\n",
       "         '都念': 3,\n",
       "         '念的': 7,\n",
       "         '的劲儿': 14,\n",
       "         '劲儿劲儿': 2,\n",
       "         '劲儿的': 9,\n",
       "         '的整体': 70,\n",
       "         '整体来说': 41,\n",
       "         '来说还': 37,\n",
       "         '还不错': 1954,\n",
       "         '不错不过': 96,\n",
       "         '不过张翰太违': 1,\n",
       "         '张翰太违和': 1,\n",
       "         '了一': 182,\n",
       "         '一出来': 58,\n",
       "         '出来就': 60,\n",
       "         '就一股': 6,\n",
       "         '一股雷阵雨': 1,\n",
       "         '雷阵雨的': 2,\n",
       "         '的画风': 107,\n",
       "         '画风目瞪狗': 1,\n",
       "         '目瞪狗呆': 2,\n",
       "         '呆太': 1,\n",
       "         '太瘠薄': 1,\n",
       "         '瘠薄好看': 1,\n",
       "         '好看了': 393,\n",
       "         '了中国': 140,\n",
       "         '中国人牛': 1,\n",
       "         '人牛b': 1,\n",
       "         'b就是': 1,\n",
       "         '就是硬道理': 4,\n",
       "         '硬道理隔壁': 1,\n",
       "         '隔壁建军': 1,\n",
       "         '建军大爷': 1,\n",
       "         '大爷都': 3,\n",
       "         '都没': 731,\n",
       "         '没你们': 2,\n",
       "         '你们爱国': 1,\n",
       "         '爱国战狼': 1,\n",
       "         '2的': 102,\n",
       "         '动作场景': 26,\n",
       "         '场景和': 76,\n",
       "         '和战斗': 8,\n",
       "         '战斗装备': 1,\n",
       "         '装备全线': 1,\n",
       "         '全线升级': 1,\n",
       "         '升级热血': 1,\n",
       "         '热血的': 89,\n",
       "         '的打斗': 222,\n",
       "         '打斗动作': 22,\n",
       "         '动作从头': 1,\n",
       "         '打到尾战': 1,\n",
       "         '尾战狼': 1,\n",
       "         '狼2': 17,\n",
       "         '2游走': 1,\n",
       "         '游走在': 14,\n",
       "         '在电影': 295,\n",
       "         '电影审查': 3,\n",
       "         '审查红线': 1,\n",
       "         '红线的': 1,\n",
       "         '的边界': 6,\n",
       "         '边界和': 2,\n",
       "         '和政治': 32,\n",
       "         '政治安全': 1,\n",
       "         '安全的': 25,\n",
       "         '的缝隙': 8,\n",
       "         '缝隙是': 1,\n",
       "         '是部': 330,\n",
       "         '部延续': 1,\n",
       "         '延续了': 113,\n",
       "         '了第一部': 100,\n",
       "         '第一部极具': 1,\n",
       "         '极具煽动': 1,\n",
       "         '煽动爱国': 1,\n",
       "         '爱国情绪': 2,\n",
       "         '情绪的': 100,\n",
       "         '的国产': 191,\n",
       "         '国产动作': 2,\n",
       "         '动作大片': 45,\n",
       "         '大片如此': 1,\n",
       "         '如此制作': 1,\n",
       "         '制作精良': 81,\n",
       "         '精良的': 49,\n",
       "         '的影片': 710,\n",
       "         '影片还': 10,\n",
       "         '还请': 17,\n",
       "         '请多来': 1,\n",
       "         '多来一点': 1,\n",
       "         '一点电影': 2,\n",
       "         '电影用': 45,\n",
       "         '用的': 216,\n",
       "         '的胶卷': 2,\n",
       "         '胶卷挺差': 1,\n",
       "         '挺差的': 8,\n",
       "         '的故事': 4709,\n",
       "         '故事过度': 1,\n",
       "         '过度也': 2,\n",
       "         '也差': 18,\n",
       "         '差地方': 1,\n",
       "         '地方部队': 1,\n",
       "         '部队还': 1,\n",
       "         '还没太多': 1,\n",
       "         '没太多展示': 1,\n",
       "         '展示就': 2,\n",
       "         '就死去': 2,\n",
       "         '死去反正': 1,\n",
       "         '反正各种': 1,\n",
       "         '各种问题': 5,\n",
       "         '问题但': 58,\n",
       "         '但就是': 136,\n",
       "         '就是能': 35,\n",
       "         '能吸引': 23,\n",
       "         '吸引人': 339,\n",
       "         '看下去': 336,\n",
       "         '下去就': 24,\n",
       "         '就冲': 73,\n",
       "         '冲这': 19,\n",
       "         '这为什么': 1,\n",
       "         '为什么要': 302,\n",
       "         '要这么': 28,\n",
       "         '这么鄙视': 1,\n",
       "         '鄙视敢': 1,\n",
       "         '敢想': 6,\n",
       "         '想敢': 3,\n",
       "         '敢去': 7,\n",
       "         '去开拓': 1,\n",
       "         '开拓的': 4,\n",
       "         '人不': 218,\n",
       "         '不允许': 22,\n",
       "         '允许他们': 2,\n",
       "         '他们再': 2,\n",
       "         '再去': 102,\n",
       "         '去拍': 80,\n",
       "         '拍直到': 1,\n",
       "         '直到能': 1,\n",
       "         '有更好': 27,\n",
       "         '更好的': 173,\n",
       "         '人拍出': 5,\n",
       "         '拍出更': 2,\n",
       "         '更棒': 21,\n",
       "         '棒的': 193,\n",
       "         '的更': 163,\n",
       "         '更出彩': 17,\n",
       "         '出彩的': 219,\n",
       "         '电影来': 44,\n",
       "         '来呢': 9,\n",
       "         '呢火爆': 3,\n",
       "         '火爆的': 32,\n",
       "         '的场面': 224,\n",
       "         '场面拍出': 1,\n",
       "         '拍出了': 249,\n",
       "         '了好莱坞': 53,\n",
       "         '好莱坞大片': 68,\n",
       "         '大片的': 120,\n",
       "         '的感觉': 2502,\n",
       "         '感觉本片': 5,\n",
       "         '本片必将': 1,\n",
       "         '必将燃爆': 1,\n",
       "         '燃爆暑期': 1,\n",
       "         '暑期吴京': 1,\n",
       "         '吴京厉害': 1,\n",
       "         '厉害了': 127,\n",
       "         '了身为': 10,\n",
       "         '身为武打': 1,\n",
       "         '武打演员': 8,\n",
       "         '演员能': 11,\n",
       "         '能拍': 232,\n",
       "         '拍到': 129,\n",
       "         '到这么': 13,\n",
       "         '这么高标准': 2,\n",
       "         '高标准的': 1,\n",
       "         '的大': 669,\n",
       "         '大场面': 223,\n",
       "         '的枪战': 133,\n",
       "         '枪战戏为': 1,\n",
       "         ...})"
      ]
     },
     "execution_count": 33,
     "metadata": {},
     "output_type": "execute_result"
    }
   ],
   "source": [
    "words_count_2"
   ]
  },
  {
   "cell_type": "code",
   "execution_count": 37,
   "metadata": {},
   "outputs": [],
   "source": [
    "def porb_2(word1,word2):\n",
    "    r = [word1,word2]\n",
    "    if ''.join(str(i) for i in r) in words_count_2: \n",
    "        return words_count_2[''.join(str(i) for i in r)] / len(TOKEN_2_GRAM)\n",
    "    else:\n",
    "        return 1 / len(TOKEN_2_GRAM)"
   ]
  },
  {
   "cell_type": "code",
   "execution_count": 35,
   "metadata": {},
   "outputs": [],
   "source": [
    "# def prob_2(word1, word2):\n",
    "#     if word1 + word2 in words_count_2: return words_count_2[word1+word2] / len(TOKEN_2_GRAM)\n",
    "#     else:\n",
    "#         return 1 / len(TOKEN_2_GRAM)"
   ]
  },
  {
   "cell_type": "code",
   "execution_count": 38,
   "metadata": {},
   "outputs": [
    {
     "data": {
      "text/plain": [
       "4.454032491721624e-07"
      ]
     },
     "execution_count": 38,
     "metadata": {},
     "output_type": "execute_result"
    }
   ],
   "source": [
    "porb_2('小米','手机')"
   ]
  },
  {
   "cell_type": "code",
   "execution_count": 39,
   "metadata": {},
   "outputs": [
    {
     "data": {
      "text/plain": [
       "1.0466976355545816e-05"
      ]
     },
     "execution_count": 39,
     "metadata": {},
     "output_type": "execute_result"
    }
   ],
   "source": [
    "porb_2('其余','的')"
   ]
  },
  {
   "cell_type": "code",
   "execution_count": 40,
   "metadata": {},
   "outputs": [],
   "source": [
    "def get_probablity(sentence):\n",
    "    words = cut(sentence)\n",
    "    sentence_pro = 1\n",
    "    \n",
    "    for i,word in enumerate(words[:-1]):\n",
    "        next_ = words[i+1]\n",
    "        \n",
    "        probability = porb_2(words, next_)\n",
    "        \n",
    "        sentence_pro *= probability\n",
    "        \n",
    "    return sentence_pro"
   ]
  },
  {
   "cell_type": "code",
   "execution_count": 41,
   "metadata": {},
   "outputs": [
    {
     "data": {
      "text/plain": [
       "5.477935645788611e-34"
      ]
     },
     "execution_count": 41,
     "metadata": {},
     "output_type": "execute_result"
    }
   ],
   "source": [
    "get_probablity('小明今天抽到一台苹果手机')"
   ]
  },
  {
   "cell_type": "code",
   "execution_count": 42,
   "metadata": {},
   "outputs": [
    {
     "data": {
      "text/plain": [
       "5.477935645788611e-34"
      ]
     },
     "execution_count": 42,
     "metadata": {},
     "output_type": "execute_result"
    }
   ],
   "source": [
    "get_probablity('小明今天抽到一台播音飞机')"
   ]
  },
  {
   "cell_type": "code",
   "execution_count": 43,
   "metadata": {},
   "outputs": [
    {
     "data": {
      "text/plain": [
       "1.1045112800216789e-20"
      ]
     },
     "execution_count": 43,
     "metadata": {},
     "output_type": "execute_result"
    }
   ],
   "source": [
    "get_probablity('洋葱奶昔来一杯')"
   ]
  },
  {
   "cell_type": "code",
   "execution_count": 44,
   "metadata": {},
   "outputs": [
    {
     "data": {
      "text/plain": [
       "1.1045112800216789e-20"
      ]
     },
     "execution_count": 44,
     "metadata": {},
     "output_type": "execute_result"
    }
   ],
   "source": [
    "get_probablity('香草奶昔来一杯')"
   ]
  },
  {
   "cell_type": "code",
   "execution_count": 45,
   "metadata": {},
   "outputs": [
    {
     "data": {
      "text/plain": [
       "4.959601359327985e-14"
      ]
     },
     "execution_count": 45,
     "metadata": {},
     "output_type": "execute_result"
    }
   ],
   "source": [
    "get_probablity('养乐多绿来一杯')"
   ]
  },
  {
   "cell_type": "code",
   "execution_count": 46,
   "metadata": {},
   "outputs": [
    {
     "data": {
      "text/plain": [
       "1"
      ]
     },
     "execution_count": 46,
     "metadata": {},
     "output_type": "execute_result"
    }
   ],
   "source": [
    "get_probablity('adfjeioslsnmfie')"
   ]
  },
  {
   "cell_type": "code",
   "execution_count": 392,
   "metadata": {},
   "outputs": [
    {
     "name": "stdout",
     "output_type": "stream",
     "text": [
      "sentence: 这个篮球看着一个篮球 with Prb: 2.4597645643447994e-27\n",
      "sentence: 这个好看的小猫听着这个小猫 with Prb: 2.716837707516442e-47\n",
      "sentence: 一个蓝色的篮球看见一个蓝色的好看的小小的小猫 with Prb: 6.682781120024704e-74\n",
      "sentence: 这个好看的小猫看见一个小小的女人 with Prb: 2.716837707516442e-47\n",
      "sentence: 一个蓝色的好看的桌子坐在这个篮球 with Prb: 6.050441712006362e-54\n",
      "sentence: 一个蓝色的女人听着这个小小的小猫 with Prb: 6.050441712006362e-54\n",
      "sentence: 这个蓝色的篮球看着这个小小的小猫 with Prb: 2.716837707516442e-47\n",
      "sentence: 这个小小的女人坐在这个蓝色的小猫 with Prb: 2.716837707516442e-47\n",
      "sentence: 一个蓝色的好看的桌子看见一个好看的篮球 with Prb: 3.000777893940149e-67\n",
      "sentence: 这个蓝色的好看的小猫看着这个小猫 with Prb: 6.050441712006362e-54\n"
     ]
    }
   ],
   "source": [
    "for sen in [generate(gram=example_grammar, target='sentence')for i in range(10)]:\n",
    "    print('sentence: {} with Prb: {}'.format(sen, get_probablity(sen)))"
   ]
  },
  {
   "cell_type": "code",
   "execution_count": 393,
   "metadata": {},
   "outputs": [
    {
     "name": "stdout",
     "output_type": "stream",
     "text": [
      "明天晚上请你吃大餐，我们一起吃苹果 is more possible\n",
      "---- 今天晚上请你吃大餐，我们一起吃日料 with probility 3.000777893940149e-67\n",
      "---- 明天晚上请你吃大餐，我们一起吃苹果 with probility 3.000777893940149e-67\n",
      "真是一只好看的小猫 is more possible\n",
      "---- 真事一只好看的小猫 with probility 5.477935645788611e-34\n",
      "---- 真是一只好看的小猫 with probility 2.4597645643447994e-27\n",
      "今晚我去吃火锅 is more possible\n",
      "---- 今晚我去吃火锅 with probility 1.1045112800216789e-20\n",
      "---- 今晚火锅去吃我 with probility 2.4597645643447994e-27\n",
      "养乐多绿来一杯 is more possible\n",
      "---- 洋葱奶昔来一杯 with probility 1.1045112800216789e-20\n",
      "---- 养乐多绿来一杯 with probility 4.959601359327985e-14\n"
     ]
    }
   ],
   "source": [
    "\n",
    "need_compared = [\n",
    "    \"今天晚上请你吃大餐，我们一起吃日料 明天晚上请你吃大餐，我们一起吃苹果\",\n",
    "    \"真事一只好看的小猫 真是一只好看的小猫\",\n",
    "    \"今晚我去吃火锅 今晚火锅去吃我\",\n",
    "    \"洋葱奶昔来一杯 养乐多绿来一杯\"\n",
    "]\n",
    "\n",
    "for s in need_compared:\n",
    "    s1, s2 = s.split()\n",
    "    p1, p2 = get_probablity(s1), get_probablity(s2)\n",
    "    \n",
    "    better = s1 if p1 > p2 else s2\n",
    "    \n",
    "    print('{} is more possible'.format(better))\n",
    "    print('-'*4 + ' {} with probility {}'.format(s1, p1))\n",
    "    print('-'*4 + ' {} with probility {}'.format(s2, p2))"
   ]
  },
  {
   "cell_type": "code",
   "execution_count": null,
   "metadata": {},
   "outputs": [],
   "source": []
  }
 ],
 "metadata": {
  "kernelspec": {
   "display_name": "Python 3",
   "language": "python",
   "name": "python3"
  },
  "language_info": {
   "codemirror_mode": {
    "name": "ipython",
    "version": 3
   },
   "file_extension": ".py",
   "mimetype": "text/x-python",
   "name": "python",
   "nbconvert_exporter": "python",
   "pygments_lexer": "ipython3",
   "version": "3.6.5"
  }
 },
 "nbformat": 4,
 "nbformat_minor": 2
}
